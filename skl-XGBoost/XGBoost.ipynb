{
 "cells": [
  {
   "cell_type": "markdown",
   "id": "9ef94a1c-4b32-45cb-a45e-ddd2c8749e74",
   "metadata": {
    "tags": []
   },
   "source": [
    "## Importing modules\n",
    "### Seperated between libraries to keep track"
   ]
  },
  {
   "cell_type": "code",
   "execution_count": 315,
   "id": "649a2678-dd36-481e-b91e-795a294052d4",
   "metadata": {},
   "outputs": [],
   "source": [
    "import numpy as np"
   ]
  },
  {
   "cell_type": "code",
   "execution_count": 316,
   "id": "8401ade2-b9da-41d1-a41e-09c8b4b414fb",
   "metadata": {},
   "outputs": [],
   "source": [
    "import pandas as pd\n",
    "pd.set_option('display.max_colwidth', None)\n",
    "pd.set_option('display.max_columns', None)  "
   ]
  },
  {
   "cell_type": "code",
   "execution_count": 317,
   "id": "628b8e05-d543-4436-8d30-0eea0e579cbb",
   "metadata": {},
   "outputs": [],
   "source": [
    "import matplotlib.pyplot as plt\n",
    "%matplotlib inline"
   ]
  },
  {
   "cell_type": "code",
   "execution_count": 318,
   "id": "3924d4c9-b2e8-4807-a297-066e29ad4a75",
   "metadata": {},
   "outputs": [],
   "source": [
    "from xgboost import XGBRegressor"
   ]
  },
  {
   "cell_type": "code",
   "execution_count": 319,
   "id": "29cefcdd-7b19-4268-90b2-a675b8a83fb9",
   "metadata": {},
   "outputs": [],
   "source": [
    "from sklearn.model_selection import train_test_split\n",
    "from sklearn.pipeline import Pipeline\n",
    "from sklearn.impute import SimpleImputer\n",
    "from sklearn.model_selection import cross_val_score\n",
    "from sklearn.metrics import mean_absolute_error"
   ]
  },
  {
   "cell_type": "code",
   "execution_count": 320,
   "id": "66c62664-fec5-4553-aace-bb563fcea159",
   "metadata": {},
   "outputs": [],
   "source": [
    "from hyperopt import hp\n",
    "from hyperopt import STATUS_OK, Trials, fmin, hp, tpe"
   ]
  },
  {
   "cell_type": "markdown",
   "id": "aa7b405a-cc3d-44a7-96e1-59f0dd341cad",
   "metadata": {},
   "source": [
    "## Loading data"
   ]
  },
  {
   "cell_type": "markdown",
   "id": "0bb32155-13b5-4eaa-bed4-b4f72a4ce042",
   "metadata": {
    "tags": []
   },
   "source": [
    "### Data has been pre-processed and features pre-selected"
   ]
  },
  {
   "cell_type": "code",
   "execution_count": 7,
   "id": "20660d18-5e74-4cfa-ad22-efba67a0f7cb",
   "metadata": {},
   "outputs": [],
   "source": [
    "\"\"\"ALL FEATURES\"\"\"\n",
    "#\"\"\"\n",
    "train = pd.read_csv(\"../data/data_all_features.csv\")\n",
    "\n",
    "X_test = pd.read_csv(\"../data/test_all_features.csv\")\n",
    "X_test_id = pd.read_csv(\"../data/raw_test.csv\")[\"Id\"]\n",
    "\n",
    "headers = X_test.columns\n",
    "\n",
    "y = train[\"SalePrice\"]\n",
    "X = train.drop(columns=[\"SalePrice\"])[headers]\n",
    "#\"\"\""
   ]
  },
  {
   "cell_type": "code",
   "execution_count": 22,
   "id": "4e8b6eb4-92ce-478b-82da-4c93d7e47a55",
   "metadata": {},
   "outputs": [
    {
     "data": {
      "text/plain": [
       "'\\ntrain = pd.read_csv(\"../data/train_correlated.csv\")\\n\\nX_test = pd.read_csv(\"../data/test_correlated.csv\")\\nX_test_id = pd.read_csv(\"../data/raw_test.csv\")[\"Id\"]\\n\\nheaders = X_test.columns\\n\\ny = train[\"SalePrice\"]\\nX = train.drop(columns=[\"SalePrice\"])[headers]\\n'"
      ]
     },
     "execution_count": 22,
     "metadata": {},
     "output_type": "execute_result"
    }
   ],
   "source": [
    "\"\"\"CORRELATED FEATURES\"\"\"\n",
    "\"\"\"\n",
    "train = pd.read_csv(\"../data/train_correlated.csv\")\n",
    "\n",
    "X_test = pd.read_csv(\"../data/test_correlated.csv\")\n",
    "X_test_id = pd.read_csv(\"../data/raw_test.csv\")[\"Id\"]\n",
    "\n",
    "headers = X_test.columns\n",
    "\n",
    "y = train[\"SalePrice\"]\n",
    "X = train.drop(columns=[\"SalePrice\"])[headers]\n",
    "\"\"\""
   ]
  },
  {
   "cell_type": "code",
   "execution_count": 9,
   "id": "170c4a45-936c-47e5-b246-d0770e9eca42",
   "metadata": {},
   "outputs": [],
   "source": [
    "X_train, X_valid, y_train, y_valid = train_test_split(X,y)"
   ]
  },
  {
   "cell_type": "markdown",
   "id": "ac1e14df-44e9-440d-b442-259dbaf8c265",
   "metadata": {},
   "source": [
    "## Testing model with an early stopping round"
   ]
  },
  {
   "cell_type": "code",
   "execution_count": 38,
   "id": "51f59ae3-8447-468e-beae-2cecbfd85de9",
   "metadata": {},
   "outputs": [],
   "source": [
    "def get_score(n):\n",
    "    \n",
    "    model = XGBRegressor(n_estimators = n)\n",
    "    \n",
    "    scores = -1 * cross_val_score(model, X, y, \n",
    "                              cv = 5, \n",
    "                              scoring = \"neg_mean_absolute_error\",\n",
    "                              error_score=\"raise\")\n",
    "    return scores.mean()"
   ]
  },
  {
   "cell_type": "code",
   "execution_count": 45,
   "id": "c73657ab-fef1-4608-b9e8-5bed10608761",
   "metadata": {},
   "outputs": [
    {
     "name": "stdout",
     "output_type": "stream",
     "text": [
      "range(20, 110, 10)\n",
      "{20: 17499.213653146406, 30: 17455.910463934073, 40: 17528.751233411815, 50: 17545.825259524827, 60: 17556.947822131846, 70: 17598.433002461472, 80: 17611.09624090325, 90: 17629.790718642977, 100: 17634.1169333262}\n"
     ]
    }
   ],
   "source": [
    "results = {}\n",
    "estimators = range(20, 101, 10)\n",
    "print(estimators[:])\n",
    "for i in estimators:\n",
    "    results[i] = get_score(i)\n",
    "print(results)"
   ]
  },
  {
   "cell_type": "code",
   "execution_count": 46,
   "id": "87a6128a-4422-45d0-af40-f7893cfe9f90",
   "metadata": {},
   "outputs": [
    {
     "data": {
      "image/png": "[encoded data removed]",
      "text/plain": [
       "<Figure size 432x288 with 1 Axes>"
      ]
     },
     "metadata": {
      "needs_background": "light"
     },
     "output_type": "display_data"
    }
   ],
   "source": [
    "plt.plot(list(results.keys()), list(results.values()))\n",
    "plt.show()"
   ]
  },
  {
   "cell_type": "code",
   "execution_count": 47,
   "id": "a7dfff4b-c168-4d58-8ef9-02ef19387e35",
   "metadata": {},
   "outputs": [
    {
     "data": {
      "text/plain": [
       "XGBRegressor(base_score=0.5, booster='gbtree', colsample_bylevel=1,\n",
       "             colsample_bynode=1, colsample_bytree=1, enable_categorical=False,\n",
       "             gamma=0, gpu_id=-1, importance_type=None,\n",
       "             interaction_constraints='', learning_rate=0.300000012,\n",
       "             max_delta_step=0, max_depth=6, min_child_weight=1, missing=nan,\n",
       "             monotone_constraints='()', n_estimators=30, n_jobs=4,\n",
       "             num_parallel_tree=1, predictor='auto', random_state=0, reg_alpha=0,\n",
       "             reg_lambda=1, scale_pos_weight=1, subsample=1, tree_method='exact',\n",
       "             validate_parameters=1, verbosity=None)"
      ]
     },
     "execution_count": 47,
     "metadata": {},
     "output_type": "execute_result"
    }
   ],
   "source": [
    "model = XGBRegressor(n_estimators = 30)\n",
    "model.fit(X_train, y_train,\n",
    "          early_stopping_rounds = 10,\n",
    "          eval_set = [(X_valid, y_valid)], \n",
    "          verbose = False\n",
    ")"
   ]
  },
  {
   "cell_type": "code",
   "execution_count": 26,
   "id": "56ff996c-e8cc-4f80-a8ee-ed15ee1af91d",
   "metadata": {},
   "outputs": [],
   "source": [
    "y_test = model.predict(X_test)\n",
    "\n",
    "submission = pd.DataFrame({\"Id\":X_test_id, \"SalePrice\":y_test})\n",
    "\n",
    "submission.to_csv(\"../skl-XGBoost/submission.csv\", sep =\",\", index = False)"
   ]
  },
  {
   "cell_type": "markdown",
   "id": "4e4b7859-62d1-4a63-915d-736b5633cf92",
   "metadata": {},
   "source": [
    "## Hyperperameter Optimisation"
   ]
  },
  {
   "cell_type": "markdown",
   "id": "d7be855c-4faf-4065-8537-9e8b7718ee73",
   "metadata": {},
   "source": [
    "### http://hyperopt.github.io/hyperopt/"
   ]
  },
  {
   "cell_type": "markdown",
   "id": "a36d1b7a-3c17-4d3c-af91-e63c3d25fd70",
   "metadata": {},
   "source": [
    "hp.choice(label, options) — Returns one of the options, which should be a list or tuple.\n",
    "\n",
    "hp.randint(label, upper) — Returns a random integer between the range [0, upper).\n",
    "\n",
    "hp.uniform(label, low, high) — Returns a value uniformly between low and high.\n",
    "\n",
    "hp.quniform(label, low, high, q) — Returns a value round(uniform(low, high) / q) * q, i.e it rounds the decimal values and returns an integer.\n",
    "\n",
    "hp.normal(label, mean, std) — Returns a real value that’s normally-distributed with mean and standard deviation sigma."
   ]
  },
  {
   "cell_type": "code",
   "execution_count": 69,
   "id": "04d55b99-28c1-48c3-9238-16d2f0735810",
   "metadata": {},
   "outputs": [
    {
     "data": {
      "text/plain": [
       "(1460, 313)"
      ]
     },
     "execution_count": 69,
     "metadata": {},
     "output_type": "execute_result"
    }
   ],
   "source": [
    "\"\"\"ALL FEATURES\"\"\"\n",
    "\"\"\"\n",
    "train = pd.read_csv(\"../data/data_all_features.csv\")\n",
    "\n",
    "X_test = pd.read_csv(\"../data/test_all_features.csv\")\n",
    "X_test_id = pd.read_csv(\"../data/raw_test.csv\")[\"Id\"]\n",
    "\n",
    "headers = X_test.columns\n",
    "\n",
    "y = train[\"SalePrice\"]\n",
    "X = train.drop(columns=[\"SalePrice\"])[headers]\n",
    "X.shape\n",
    "\"\"\""
   ]
  },
  {
   "cell_type": "code",
   "execution_count": 294,
   "id": "4a077c47-f1ec-4655-9798-240cc3bac55c",
   "metadata": {},
   "outputs": [],
   "source": [
    "\"\"\"CORRELATED FEATURES\"\"\"\n",
    "#\"\"\"\n",
    "train = pd.read_csv(\"../data/train_correlated.csv\")\n",
    "\n",
    "X_test = pd.read_csv(\"../data/test_correlated.csv\")\n",
    "X_test_id = pd.read_csv(\"../data/raw_test.csv\")[\"Id\"]\n",
    "\n",
    "headers = X_test.columns\n",
    "\n",
    "y = train[\"SalePrice\"]\n",
    "X = train.drop(columns=[\"SalePrice\"])[headers]\n",
    "#\"\"\""
   ]
  },
  {
   "cell_type": "code",
   "execution_count": 295,
   "id": "aeec88f4-9408-4f8c-861c-dd62d7af0967",
   "metadata": {},
   "outputs": [],
   "source": [
    "X_train, X_valid, y_train, y_valid = train_test_split(X,y)"
   ]
  },
  {
   "cell_type": "code",
   "execution_count": 312,
   "id": "3c098afe-72aa-4df1-9481-9b42cb510121",
   "metadata": {},
   "outputs": [],
   "source": [
    "\"\"\"Linear Regressor\"\"\"\n",
    "def objective(space):\n",
    "    clf=XGBRegressor(\n",
    "                    n_estimators = int(space['n_estimators']), \n",
    "                    max_depth = int(space['max_depth']), \n",
    "                    gamma = space['gamma'],\n",
    "                    reg_alpha = int(space['reg_alpha']),\n",
    "                    min_child_weight=int(space['min_child_weight']),\n",
    "                    colsample_bytree=int(space['colsample_bytree']),\n",
    "    )\n",
    "    \n",
    "    evaluation = [( X_train, y_train), ( X_valid, y_valid)]\n",
    "    \n",
    "    clf.fit(X_train, y_train,\n",
    "            eval_set=evaluation, \n",
    "            eval_metric=\"mae\",\n",
    "            early_stopping_rounds=10,\n",
    "            verbose=False\n",
    "           )\n",
    "    \n",
    "    print(\"n_estimators \"+str(len(clf.get_booster().get_dump())))\n",
    "\n",
    "    pred = clf.predict(X_valid)\n",
    "    accuracy = mean_absolute_error(y_valid, pred)\n",
    "    print (\"SCORE: \"+ str(accuracy))\n",
    "    \n",
    "    n_est_used = len(clf.get_booster().get_dump())\n",
    "    \n",
    "    trials.results[-1][\"n_estimators\"] = n_est_used\n",
    "    \n",
    "    trials.trials[-1][\"misc\"][\"vals\"][\"n_estimators\"] = [n_est_used]\n",
    "    \n",
    "    return {'loss': accuracy, 'status': STATUS_OK, \"n_estimators\" : n_est_used}"
   ]
  },
  {
   "cell_type": "code",
   "execution_count": 313,
   "id": "ea50f2da-0768-4177-84f1-4b0366b7d018",
   "metadata": {},
   "outputs": [],
   "source": [
    "space={'max_depth': hp.quniform(\"max_depth\", 3, 18, 1),\n",
    "        'gamma': hp.uniform ('gamma', 1,9),\n",
    "        'reg_alpha' : hp.quniform('reg_alpha', 40,180,1),\n",
    "        'reg_lambda' : hp.uniform('reg_lambda', 0,1),\n",
    "        'colsample_bytree' : hp.uniform('colsample_bytree', 0.5,1),\n",
    "        'min_child_weight' : hp.quniform('min_child_weight', 0, 10, 1),\n",
    "        'n_estimators': hp.quniform('n_estimators', 999, 1000, 1),\n",
    "        'seed': 0\n",
    "    }"
   ]
  },
  {
   "cell_type": "code",
   "execution_count": 314,
   "id": "878dd87d-ee9e-4ae8-8545-3e6d00a3f7a1",
   "metadata": {},
   "outputs": [
    {
     "name": "stdout",
     "output_type": "stream",
     "text": [
      "n_estimators 64                                                                                                        \n",
      "SCORE: 20685.661526113014                                                                                              \n",
      "n_estimators 64                                                                                                        \n",
      "SCORE: 20919.57719392123                                                                                               \n",
      "n_estimators 64                                                                                                        \n",
      "SCORE: 20737.322538527398                                                                                              \n",
      "n_estimators 64                                                                                                        \n",
      "SCORE: 21959.460391695204                                                                                              \n",
      "n_estimators 64                                                                                                        \n",
      "SCORE: 21731.33176369863                                                                                               \n",
      "n_estimators 64                                                                                                        \n",
      "SCORE: 21528.42745077055                                                                                               \n",
      "n_estimators 64                                                                                                        \n",
      "SCORE: 20999.700727739724                                                                                              \n",
      "n_estimators 64                                                                                                        \n",
      "SCORE: 20469.67502140411                                                                                               \n",
      "n_estimators 64                                                                                                        \n",
      "SCORE: 21910.717861729452                                                                                              \n",
      "n_estimators 64                                                                                                        \n",
      "SCORE: 20726.87245291096                                                                                               \n",
      "n_estimators 64                                                                                                        \n",
      "SCORE: 22142.550706335616                                                                                              \n",
      "n_estimators 64                                                                                                        \n",
      "SCORE: 21935.58497431507                                                                                               \n",
      "n_estimators 68                                                                                                        \n",
      "SCORE: 19679.492594178082                                                                                              \n",
      "n_estimators 64                                                                                                        \n",
      "SCORE: 21130.933358304796                                                                                              \n",
      "n_estimators 64                                                                                                        \n",
      "SCORE: 20368.721425513697                                                                                              \n",
      "n_estimators 64                                                                                                        \n",
      "SCORE: 21919.499882277396                                                                                              \n",
      "n_estimators 64                                                                                                        \n",
      "SCORE: 22024.227472174658                                                                                              \n",
      "n_estimators 64                                                                                                        \n",
      "SCORE: 21980.966127996577                                                                                              \n",
      "n_estimators 64                                                                                                        \n",
      "SCORE: 21592.03049015411                                                                                               \n",
      "n_estimators 64                                                                                                        \n",
      "SCORE: 20597.90071703767                                                                                               \n",
      "n_estimators 130                                                                                                       \n",
      "SCORE: 18588.52193921233                                                                                               \n",
      "n_estimators 165                                                                                                       \n",
      "SCORE: 17985.40047089041                                                                                               \n",
      "n_estimators 165                                                                                                       \n",
      "SCORE: 17985.402953767123                                                                                              \n",
      "n_estimators 165                                                                                                       \n",
      "SCORE: 18099.32647688356                                                                                               \n",
      "n_estimators 64                                                                                                        \n",
      "SCORE: 20677.464415667808                                                                                              \n",
      "n_estimators 165                                                                                                       \n",
      "SCORE: 17985.30261130137                                                                                               \n",
      "n_estimators 64                                                                                                        \n",
      "SCORE: 20621.850417380138                                                                                              \n",
      "n_estimators 64                                                                                                        \n",
      "SCORE: 20447.628296232877                                                                                              \n",
      "n_estimators 64                                                                                                        \n",
      "SCORE: 20777.466416952055                                                                                              \n",
      "n_estimators 157                                                                                                       \n",
      "SCORE: 18163.541727311644                                                                                              \n",
      "n_estimators 98                                                                                                        \n",
      "SCORE: 20069.394627568494                                                                                              \n",
      "n_estimators 64                                                                                                        \n",
      "SCORE: 20543.78797089041                                                                                               \n",
      "n_estimators 64                                                                                                        \n",
      "SCORE: 20321.56566780822                                                                                               \n",
      "n_estimators 99                                                                                                        \n",
      "SCORE: 19056.648715753425                                                                                              \n",
      "n_estimators 165                                                                                                       \n",
      "SCORE: 17985.600567208905                                                                                              \n",
      "n_estimators 64                                                                                                        \n",
      "SCORE: 20368.715571489727                                                                                              \n",
      "n_estimators 64                                                                                                        \n",
      "SCORE: 21676.331752996575                                                                                              \n",
      "n_estimators 64                                                                                                        \n",
      "SCORE: 21605.135134845892                                                                                              \n",
      "n_estimators 64                                                                                                        \n",
      "SCORE: 20368.701541095892                                                                                              \n",
      "n_estimators 64                                                                                                        \n",
      "SCORE: 20320.71408390411                                                                                               \n",
      "n_estimators 64                                                                                                        \n",
      "SCORE: 20259.578959760274                                                                                              \n",
      "n_estimators 64                                                                                                        \n",
      "SCORE: 20705.09879066781                                                                                               \n",
      "n_estimators 122                                                                                                       \n",
      "SCORE: 18107.746842893837                                                                                              \n",
      "n_estimators 64                                                                                                        \n",
      "SCORE: 21161.679163099314                                                                                              \n",
      "n_estimators 64                                                                                                        \n",
      "SCORE: 20777.16309931507                                                                                               \n",
      "n_estimators 64                                                                                                        \n",
      "SCORE: 20523.752290239725                                                                                              \n",
      "n_estimators 64                                                                                                        \n",
      "SCORE: 20484.674336472603                                                                                              \n",
      "n_estimators 64                                                                                                        \n",
      "SCORE: 22145.09315068493                                                                                               \n",
      "n_estimators 64                                                                                                        \n",
      "SCORE: 21860.48015839041                                                                                               \n",
      "n_estimators 64                                                                                                        \n",
      "SCORE: 20543.78797089041                                                                                               \n",
      "n_estimators 64                                                                                                        \n",
      "SCORE: 20469.620836900685                                                                                              \n",
      "n_estimators 64                                                                                                        \n",
      "SCORE: 20381.152889554796                                                                                              \n",
      "n_estimators 64                                                                                                        \n",
      "SCORE: 22104.25861515411                                                                                               \n",
      "n_estimators 64                                                                                                        \n",
      "SCORE: 20064.881624571917                                                                                              \n",
      "n_estimators 64                                                                                                        \n",
      "SCORE: 21714.527985873287                                                                                              \n",
      "n_estimators 156                                                                                                       \n",
      "SCORE: 18187.97693707192                                                                                               \n",
      "n_estimators 64                                                                                                        \n",
      "SCORE: 20994.53908390411                                                                                               \n",
      "n_estimators 64                                                                                                        \n",
      "SCORE: 21306.472870291094                                                                                              \n",
      "n_estimators 64                                                                                                        \n",
      "SCORE: 20677.591063784246                                                                                              \n",
      "n_estimators 64                                                                                                        \n",
      "SCORE: 20413.41475813356                                                                                               \n",
      "n_estimators 97                                                                                                        \n",
      "SCORE: 18905.96708047945                                                                                               \n",
      "n_estimators 64                                                                                                        \n",
      "SCORE: 20978.468835616437                                                                                              \n",
      "n_estimators 64                                                                                                        \n",
      "SCORE: 20247.54821275685                                                                                               \n",
      "n_estimators 64                                                                                                        \n",
      "SCORE: 21161.845569349316                                                                                              \n",
      "n_estimators 129                                                                                                       \n",
      "SCORE: 18623.39448844178                                                                                               \n",
      "n_estimators 165                                                                                                       \n",
      "SCORE: 17985.499518407534                                                                                              \n",
      "n_estimators 165                                                                                                       \n",
      "SCORE: 17985.409160958905                                                                                              \n",
      "n_estimators 157                                                                                                       \n",
      "SCORE: 18163.544873715753                                                                                              \n",
      "n_estimators 129                                                                                                       \n",
      "SCORE: 18285.308090753424                                                                                              \n",
      "n_estimators 64                                                                                                        \n",
      "SCORE: 20447.78499571918                                                                                               \n",
      "n_estimators 130                                                                                                       \n",
      "SCORE: 18588.512756849315                                                                                              \n",
      "n_estimators 64                                                                                                        \n",
      "SCORE: 19935.45783390411                                                                                               \n",
      "n_estimators 130                                                                                                       \n",
      "SCORE: 18602.983989726028                                                                                              \n",
      "n_estimators 122                                                                                                       \n",
      "SCORE: 18107.698576626713                                                                                              \n",
      "n_estimators 64                                                                                                        \n",
      "SCORE: 20064.89807363014                                                                                               \n",
      "n_estimators 64                                                                                                        \n",
      "SCORE: 20964.664447773972                                                                                              \n",
      "n_estimators 64                                                                                                        \n",
      "SCORE: 20399.99870505137                                                                                               \n",
      "n_estimators 157                                                                                                       \n",
      "SCORE: 18163.515207619865                                                                                              \n",
      "n_estimators 129                                                                                                       \n",
      "SCORE: 18285.32732234589                                                                                               \n",
      "n_estimators 68                                                                                                        \n",
      "SCORE: 19679.51897474315                                                                                               \n",
      "n_estimators 64                                                                                                        \n",
      "SCORE: 21619.113067208906                                                                                              \n",
      "n_estimators 64                                                                                                        \n",
      "SCORE: 20943.00555436644                                                                                               \n",
      "n_estimators 157                                                                                                       \n",
      "SCORE: 18163.54539811644                                                                                               \n",
      "n_estimators 64                                                                                                        \n",
      "SCORE: 21315.529291523973                                                                                              \n",
      "n_estimators 139                                                                                                       \n",
      "SCORE: 18248.308979023972                                                                                              \n",
      "n_estimators 98                                                                                                        \n",
      "SCORE: 20079.867283818494                                                                                              \n",
      "n_estimators 64                                                                                                        \n",
      "SCORE: 20400.000074914384                                                                                              \n",
      "n_estimators 68                                                                                                        \n",
      "SCORE: 19679.489897260275                                                                                              \n",
      "n_estimators 165                                                                                                       \n",
      "SCORE: 17985.383454623287                                                                                              \n",
      "n_estimators 64                                                                                                        \n",
      "SCORE: 20999.487446489726                                                                                              \n",
      "n_estimators 64                                                                                                        \n",
      "SCORE: 21912.92506421233                                                                                               \n",
      "n_estimators 64                                                                                                        \n",
      "SCORE: 21675.967133989725                                                                                              \n",
      "n_estimators 64                                                                                                        \n",
      "SCORE: 20715.23310145548                                                                                               \n",
      "n_estimators 64                                                                                                        \n",
      "SCORE: 22153.91739083904                                                                                               \n",
      "n_estimators 64                                                                                                        \n",
      "SCORE: 20399.997335188356                                                                                              \n",
      "n_estimators 64                                                                                                        \n",
      "SCORE: 20491.473854880136                                                                                              \n",
      "n_estimators 64                                                                                                        \n",
      "SCORE: 20447.700920376712                                                                                              \n",
      "n_estimators 64                                                                                                        \n",
      "SCORE: 21903.927044092467                                                                                              \n",
      "n_estimators 157                                                                                                       \n",
      "SCORE: 18163.535637842466                                                                                              \n",
      "n_estimators 64                                                                                                        \n",
      "SCORE: 20677.482213184932                                                                                              \n",
      "n_estimators 70                                                                                                        \n",
      "SCORE: 20623.591352739724                                                                                              \n",
      "n_estimators 139                                                                                                       \n",
      "SCORE: 18248.21609589041                                                                                               \n",
      "n_estimators 165                                                                                                       \n",
      "SCORE: 18099.340625                                                                                                    \n",
      "n_estimators 64                                                                                                        \n",
      "SCORE: 20990.488805650686                                                                                              \n",
      "n_estimators 99                                                                                                        \n",
      "SCORE: 19056.741898544522                                                                                              \n",
      "n_estimators 128                                                                                                       \n",
      "SCORE: 18610.05602525685                                                                                               \n",
      "n_estimators 64                                                                                                        \n",
      "SCORE: 20943.068268407533                                                                                              \n",
      "n_estimators 64                                                                                                        \n",
      "SCORE: 20399.992776113013                                                                                              \n",
      "n_estimators 129                                                                                                       \n",
      "SCORE: 18285.291523972603                                                                                              \n",
      "n_estimators 157                                                                                                       \n",
      "SCORE: 18180.549175941782                                                                                              \n",
      "n_estimators 64                                                                                                        \n",
      "SCORE: 20368.70285744863                                                                                               \n",
      "n_estimators 64                                                                                                        \n",
      "SCORE: 21163.657866010275                                                                                              \n",
      "n_estimators 64                                                                                                        \n",
      "SCORE: 20064.79839469178                                                                                               \n",
      "n_estimators 64                                                                                                        \n",
      "SCORE: 20583.45998501712                                                                                               \n",
      "n_estimators 64                                                                                                        \n",
      "SCORE: 20259.487425085616                                                                                              \n",
      "n_estimators 165                                                                                                       \n",
      "SCORE: 17985.408476027398                                                                                              \n",
      "n_estimators 64                                                                                                        \n",
      "SCORE: 21675.273319777396                                                                                              \n",
      "n_estimators 64                                                                                                        \n",
      "SCORE: 20064.78564854452                                                                                               \n",
      "n_estimators 64                                                                                                        \n",
      "SCORE: 21372.643321917807                                                                                              \n",
      "n_estimators 64                                                                                                        \n",
      "SCORE: 21699.155233304795                                                                                              \n",
      "n_estimators 139                                                                                                       \n",
      "SCORE: 18248.215079195204                                                                                              \n",
      "n_estimators 64                                                                                                        \n",
      "SCORE: 20498.53069349315                                                                                               \n",
      "n_estimators 64                                                                                                        \n",
      "SCORE: 21006.52089041096                                                                                               \n",
      "n_estimators 64                                                                                                        \n",
      "SCORE: 20413.366909246575                                                                                              \n",
      "n_estimators 64                                                                                                        \n",
      "SCORE: 20739.659503424657                                                                                              \n",
      "n_estimators 99                                                                                                        \n",
      "SCORE: 18843.91893193493                                                                                               \n",
      "n_estimators 64                                                                                                        \n",
      "SCORE: 20188.262328767123                                                                                              \n",
      "n_estimators 64                                                                                                        \n",
      "SCORE: 21219.459032534247                                                                                              \n",
      "n_estimators 64                                                                                                        \n",
      "SCORE: 20583.448116438358                                                                                              \n",
      "n_estimators 64                                                                                                        \n",
      "SCORE: 20643.026733732877                                                                                              \n",
      "n_estimators 130                                                                                                       \n",
      "SCORE: 18603.088837756848                                                                                              \n",
      "n_estimators 122                                                                                                       \n",
      "SCORE: 18107.665785530822                                                                                              \n",
      "n_estimators 64                                                                                                        \n",
      "SCORE: 20860.582288099315                                                                                              \n",
      "n_estimators 97                                                                                                        \n",
      "SCORE: 18905.90047089041                                                                                               \n",
      "n_estimators 136                                                                                                       \n",
      "SCORE: 18460.70493364726                                                                                               \n",
      "n_estimators 64                                                                                                        \n",
      "SCORE: 20350.966438356165                                                                                              \n",
      "n_estimators 68                                                                                                        \n",
      "SCORE: 19679.51568921233                                                                                               \n",
      "n_estimators 64                                                                                                        \n",
      "SCORE: 21532.74845890411                                                                                               \n",
      "n_estimators 64                                                                                                        \n",
      "SCORE: 20064.90199058219                                                                                               \n",
      "n_estimators 64                                                                                                        \n",
      "SCORE: 20713.710883989726                                                                                              \n",
      "n_estimators 64                                                                                                        \n",
      "SCORE: 20259.626262842467                                                                                              \n",
      "n_estimators 156                                                                                                       \n",
      "SCORE: 18187.715946061642                                                                                              \n",
      "n_estimators 64                                                                                                        \n",
      "SCORE: 20413.440261130138                                                                                              \n",
      "n_estimators 64                                                                                                        \n",
      "SCORE: 20469.337714041096                                                                                              \n",
      "n_estimators 64                                                                                                        \n",
      "SCORE: 20583.499432791097                                                                                              \n",
      "n_estimators 165                                                                                                       \n",
      "SCORE: 17985.408411815068                                                                                              \n",
      "n_estimators 130                                                                                                       \n",
      "SCORE: 18588.558914811645                                                                                              \n",
      "n_estimators 165                                                                                                       \n",
      "SCORE: 17985.40888270548                                                                                               \n",
      "n_estimators 130                                                                                                       \n",
      "SCORE: 18603.096575342464                                                                                              \n",
      "n_estimators 64                                                                                                        \n",
      "SCORE: 19876.536237157536                                                                                              \n",
      "n_estimators 165                                                                                                       \n",
      "SCORE: 17985.367401541094                                                                                              \n",
      "n_estimators 165                                                                                                       \n",
      "SCORE: 17985.367401541094                                                                                              \n",
      "n_estimators 165                                                                                                       \n",
      "SCORE: 17985.35433433219                                                                                               \n",
      "n_estimators 130                                                                                                       \n",
      "SCORE: 18603.014404965754                                                                                              \n",
      "n_estimators 122                                                                                                       \n",
      "SCORE: 18107.745569349314                                                                                              \n",
      "n_estimators 64                                                                                                        \n",
      "SCORE: 20399.99640410959                                                                                               \n",
      "n_estimators 64                                                                                                        \n",
      "SCORE: 20447.614169520548                                                                                              \n",
      "n_estimators 64                                                                                                        \n",
      "SCORE: 20259.592979452056                                                                                              \n",
      "n_estimators 165                                                                                                       \n",
      "SCORE: 17985.32008775685                                                                                               \n",
      "n_estimators 68                                                                                                        \n",
      "SCORE: 19679.517647688357                                                                                              \n",
      "n_estimators 122                                                                                                       \n",
      "SCORE: 18107.755993150684                                                                                              \n",
      "n_estimators 130                                                                                                       \n",
      "SCORE: 18602.98455693493                                                                                               \n",
      "n_estimators 64                                                                                                        \n",
      "SCORE: 20677.26198630137                                                                                               \n",
      "n_estimators 64                                                                                                        \n",
      "SCORE: 20350.982202482875                                                                                              \n",
      "n_estimators 157                                                                                                       \n",
      "SCORE: 18163.54165239726                                                                                               \n",
      "n_estimators 64                                                                                                        \n",
      "SCORE: 19876.546147260273                                                                                              \n",
      "n_estimators 165                                                                                                       \n",
      "SCORE: 18099.277151113012                                                                                              \n",
      "n_estimators 64                                                                                                        \n",
      "SCORE: 21392.63595890411                                                                                               \n",
      "n_estimators 64                                                                                                        \n",
      "SCORE: 20621.878649400685                                                                                              \n",
      "n_estimators 139                                                                                                       \n",
      "SCORE: 18248.182395119864                                                                                              \n",
      "n_estimators 64                                                                                                        \n",
      "SCORE: 20523.744049657533                                                                                              \n",
      "n_estimators 64                                                                                                        \n",
      "SCORE: 21395.333829195206                                                                                              \n",
      "n_estimators 130                                                                                                       \n",
      "SCORE: 18588.45754494863                                                                                               \n",
      "n_estimators 64                                                                                                        \n",
      "SCORE: 20368.68285530822                                                                                               \n",
      "n_estimators 64                                                                                                        \n",
      "SCORE: 20321.294210188356                                                                                              \n",
      "n_estimators 165                                                                                                       \n",
      "SCORE: 18099.22769691781                                                                                               \n",
      "n_estimators 130                                                                                                       \n",
      "SCORE: 18588.439726027398                                                                                              \n",
      "n_estimators 64                                                                                                        \n",
      "SCORE: 20990.628520976028                                                                                              \n",
      "n_estimators 64                                                                                                        \n",
      "SCORE: 20399.987200342464                                                                                              \n",
      "n_estimators 64                                                                                                        \n",
      "SCORE: 20523.751840753426                                                                                              \n",
      "n_estimators 156                                                                                                       \n",
      "SCORE: 18187.757127568493                                                                                              \n",
      "n_estimators 64                                                                                                        \n",
      "SCORE: 20447.658047945206                                                                                              \n",
      "n_estimators 157                                                                                                       \n",
      "SCORE: 18163.545633561644                                                                                              \n",
      "n_estimators 165                                                                                                       \n",
      "SCORE: 18099.30059931507                                                                                               \n",
      "n_estimators 64                                                                                                        \n",
      "SCORE: 19935.421885702053                                                                                              \n",
      "n_estimators 64                                                                                                        \n",
      "SCORE: 20677.477568493152                                                                                              \n",
      "n_estimators 64                                                                                                        \n",
      "SCORE: 20259.59150256849                                                                                               \n",
      "n_estimators 130                                                                                                       \n",
      "SCORE: 18588.407427226026                                                                                              \n",
      "n_estimators 165                                                                                                       \n",
      "SCORE: 17912.185702054794                                                                                              \n",
      "n_estimators 130                                                                                                       \n",
      "SCORE: 18946.696800085618                                                                                              \n",
      "n_estimators 64                                                                                                        \n",
      "SCORE: 21714.36953125                                                                                                  \n",
      "n_estimators 68                                                                                                        \n",
      "SCORE: 20485.11042380137                                                                                               \n",
      "n_estimators 157                                                                                                       \n",
      "SCORE: 18638.404815924656                                                                                              \n",
      "n_estimators 129                                                                                                       \n",
      "SCORE: 18623.42551369863                                                                                               \n",
      "n_estimators 165                                                                                                       \n",
      "SCORE: 17912.15680650685                                                                                               \n",
      "n_estimators 64                                                                                                        \n",
      "SCORE: 20917.785124143837                                                                                              \n",
      "n_estimators 64                                                                                                        \n",
      "SCORE: 21161.57109375                                                                                                  \n",
      "n_estimators 64                                                                                                        \n",
      "SCORE: 21868.390614297947                                                                                              \n",
      "n_estimators 165                                                                                                       \n",
      "SCORE: 17912.131549657533                                                                                              \n",
      "n_estimators 64                                                                                                        \n",
      "SCORE: 20735.871907106164                                                                                              \n",
      "100%|██████████████████████████████████████████████| 200/200 [00:33<00:00,  6.01trial/s, best loss: 17912.131549657533]\n"
     ]
    }
   ],
   "source": [
    "trials = Trials()\n",
    "\n",
    "best_hyperparams = fmin(fn = objective,\n",
    "                        space = space,\n",
    "                        algo = tpe.suggest,\n",
    "                        max_evals = 200,\n",
    "                        trials = trials)\n",
    "#print(space[\"n_estimators\"])\n",
    "#print(trials.trials)\n",
    "#print(trials.results)"
   ]
  },
  {
   "cell_type": "code",
   "execution_count": 303,
   "id": "0a02d19c-05df-475c-8e77-f9c2737729e6",
   "metadata": {},
   "outputs": [
    {
     "name": "stdout",
     "output_type": "stream",
     "text": [
      "The best hyperparameters are :  \n",
      "\n",
      "{'colsample_bytree': 0.8098570967501865, 'gamma': 6.814507971661756, 'max_depth': 3.0, 'min_child_weight': 0.0, 'n_estimators': 165, 'reg_alpha': 146.0, 'reg_lambda': 0.5197674257966153}\n"
     ]
    }
   ],
   "source": [
    "print(\"The best hyperparameters are : \",\"\\n\")\n",
    "print(best_hyperparams)"
   ]
  },
  {
   "cell_type": "code",
   "execution_count": 308,
   "id": "e7abd821-f31f-4555-a85d-3ee1655a2b19",
   "metadata": {},
   "outputs": [
    {
     "name": "stdout",
     "output_type": "stream",
     "text": [
      "The best hyperparameters are :  \n",
      "\n",
      "{'colsample_bytree': 0.8541948004816649, 'gamma': 2.2362760654700304, 'max_depth': 3.0, 'min_child_weight': 0.0, 'n_estimators': 165, 'reg_alpha': 179.0, 'reg_lambda': 0.9881602240171927}\n"
     ]
    }
   ],
   "source": [
    "print(\"The best hyperparameters are : \",\"\\n\")\n",
    "print(best_hyperparams)"
   ]
  },
  {
   "cell_type": "code",
   "execution_count": 309,
   "id": "3382306e-3357-49a6-ac91-9cc036cbc147",
   "metadata": {},
   "outputs": [],
   "source": [
    "clf=XGBRegressor(\n",
    "                n_estimators = int(best_hyperparams[\"n_estimators\"]), \n",
    "                max_depth = int(best_hyperparams['max_depth']), \n",
    "                gamma = best_hyperparams['gamma'],\n",
    "                reg_alpha = best_hyperparams['reg_alpha'],\n",
    "                min_child_weight = best_hyperparams['min_child_weight'],\n",
    "                colsample_bytree = best_hyperparams['colsample_bytree']\n",
    ")\n",
    "\n",
    "clf.fit(X, y, \n",
    "        eval_metric=\"mae\",\n",
    "        verbose=True\n",
    ")\n",
    "\n",
    "y_test = clf.predict(X_test)"
   ]
  },
  {
   "cell_type": "code",
   "execution_count": 310,
   "id": "41ce6d99-fc46-4366-89ad-2e83a47202dd",
   "metadata": {},
   "outputs": [],
   "source": [
    "submission = pd.DataFrame({\"Id\":X_test_id, \"SalePrice\":y_test})\n",
    "\n",
    "submission.to_csv(\"../skl-XGBoost/submission.csv\", sep =\",\", index = False)"
   ]
  },
  {
   "cell_type": "code",
   "execution_count": null,
   "id": "bbf98529-ef3f-460b-90d0-5a0a774a346a",
   "metadata": {},
   "outputs": [],
   "source": []
  },
  {
   "cell_type": "code",
   "execution_count": null,
   "id": "b2250f33-ea80-419c-8331-88907b7271d1",
   "metadata": {},
   "outputs": [],
   "source": []
  }
 ],
 "metadata": {
  "kernelspec": {
   "display_name": "Python 3 (ipykernel)",
   "language": "python",
   "name": "python3"
  },
  "language_info": {
   "codemirror_mode": {
    "name": "ipython",
    "version": 3
   },
   "file_extension": ".py",
   "mimetype": "text/x-python",
   "name": "python",
   "nbconvert_exporter": "python",
   "pygments_lexer": "ipython3",
   "version": "3.9.1"
  }
 },
 "nbformat": 4,
 "nbformat_minor": 5
}
