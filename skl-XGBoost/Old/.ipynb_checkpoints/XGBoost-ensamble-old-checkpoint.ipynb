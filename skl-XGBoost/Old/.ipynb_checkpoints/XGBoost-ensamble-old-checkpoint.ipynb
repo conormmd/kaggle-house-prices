{
 "cells": [
  {
   "cell_type": "markdown",
   "id": "9ef94a1c-4b32-45cb-a45e-ddd2c8749e74",
   "metadata": {
    "tags": []
   },
   "source": [
    "## Importing modules\n",
    "### Seperated between libraries to keep track"
   ]
  },
  {
   "cell_type": "code",
   "execution_count": null,
   "id": "649a2678-dd36-481e-b91e-795a294052d4",
   "metadata": {},
   "outputs": [],
   "source": [
    "import numpy as np"
   ]
  },
  {
   "cell_type": "code",
   "execution_count": null,
   "id": "8401ade2-b9da-41d1-a41e-09c8b4b414fb",
   "metadata": {},
   "outputs": [],
   "source": [
    "import pandas as pd\n",
    "pd.set_option('display.max_colwidth', None)\n",
    "pd.set_option('display.max_columns', None)  "
   ]
  },
  {
   "cell_type": "code",
   "execution_count": null,
   "id": "628b8e05-d543-4436-8d30-0eea0e579cbb",
   "metadata": {},
   "outputs": [],
   "source": [
    "import matplotlib.pyplot as plt\n",
    "%matplotlib inline"
   ]
  },
  {
   "cell_type": "code",
   "execution_count": null,
   "id": "3924d4c9-b2e8-4807-a297-066e29ad4a75",
   "metadata": {},
   "outputs": [],
   "source": [
    "from xgboost import XGBRegressor"
   ]
  },
  {
   "cell_type": "code",
   "execution_count": null,
   "id": "29cefcdd-7b19-4268-90b2-a675b8a83fb9",
   "metadata": {},
   "outputs": [],
   "source": [
    "from sklearn.model_selection import train_test_split\n",
    "from sklearn.pipeline import Pipeline\n",
    "from sklearn.impute import SimpleImputer\n",
    "from sklearn.model_selection import cross_val_score\n",
    "from sklearn.metrics import mean_absolute_error"
   ]
  },
  {
   "cell_type": "code",
   "execution_count": null,
   "id": "66c62664-fec5-4553-aace-bb563fcea159",
   "metadata": {},
   "outputs": [],
   "source": [
    "from hyperopt import hp\n",
    "from hyperopt import STATUS_OK, Trials, fmin, hp, tpe"
   ]
  },
  {
   "cell_type": "markdown",
   "id": "1228d46f-89ed-479e-9cf2-e81ab597e301",
   "metadata": {},
   "source": [
    "# TESTING"
   ]
  },
  {
   "cell_type": "code",
   "execution_count": null,
   "id": "971d5245-d426-4e68-9aec-5d527b934ead",
   "metadata": {},
   "outputs": [],
   "source": [
    "\"\"\"CORRELATED FEATURES\"\"\"\n",
    "#\"\"\"\n",
    "train = pd.read_csv(\"../data/train_correlated.csv\")\n",
    "\n",
    "X_test = pd.read_csv(\"../data/test_correlated.csv\")\n",
    "X_test_id = pd.read_csv(\"../data/raw_test.csv\")[\"Id\"]\n",
    "\n",
    "headers = X_test.columns\n",
    "\n",
    "y_all = train[\"SalePrice\"]\n",
    "X_all = train.drop(columns=[\"SalePrice\"])[headers]\n",
    "#\"\"\""
   ]
  },
  {
   "cell_type": "code",
   "execution_count": null,
   "id": "c8a3c4f2-806f-43a3-87e7-fd49f9feb159",
   "metadata": {},
   "outputs": [],
   "source": [
    "\"\"\"ALL FEATURES\"\"\"\n",
    "\"\"\"\n",
    "train = pd.read_csv(\"../data/data_all_features.csv\")\n",
    "\n",
    "X_test = pd.read_csv(\"../data/test_all_features.csv\")\n",
    "X_test_id = pd.read_csv(\"../data/raw_test.csv\")[\"Id\"]\n",
    "\n",
    "headers = X_test.columns\n",
    "\n",
    "y_all = train[\"SalePrice\"]\n",
    "X_all = train.drop(columns=[\"SalePrice\"])[headers]\n",
    "\"\"\""
   ]
  },
  {
   "cell_type": "code",
   "execution_count": null,
   "id": "46a26080-eb9d-496b-b6ad-43db1bd56b7f",
   "metadata": {},
   "outputs": [],
   "source": [
    "X, X_hold, y, y_hold = train_test_split(X_all,y_all)"
   ]
  },
  {
   "cell_type": "code",
   "execution_count": null,
   "id": "5a0e50ba-9d0d-495b-bba1-57ed1720e790",
   "metadata": {},
   "outputs": [],
   "source": [
    "y_hold"
   ]
  },
  {
   "cell_type": "code",
   "execution_count": 51,
   "id": "b2250f33-ea80-419c-8331-88907b7271d1",
   "metadata": {},
   "outputs": [],
   "source": [
    "\"\"\"Linear Regressor\"\"\"\n",
    "def objective(space):\n",
    "    clf=XGBRegressor(\n",
    "                    n_estimators = int(space['n_estimators']), \n",
    "                    max_depth = int(space['max_depth']), \n",
    "                    gamma = space['gamma'],\n",
    "                    reg_alpha = space['reg_alpha'],\n",
    "                    reg_lambda = space[\"reg_lambda\"],\n",
    "                    min_child_weight=space['min_child_weight'],\n",
    "                    colsample_bytree=space['colsample_bytree'],\n",
    "    )\n",
    "    \n",
    "    acc = []\n",
    "    n_est = []\n",
    "    \n",
    "    for i in range(5):\n",
    "        X_train, X_valid, y_train, y_valid = train_test_split(X,y)\n",
    "\n",
    "        evaluation = [( X_train, y_train), ( X_valid, y_valid)]   \n",
    "\n",
    "        clf.fit(X_train, y_train,\n",
    "                eval_set=evaluation, \n",
    "                eval_metric=\"mae\",\n",
    "                early_stopping_rounds=25,\n",
    "                verbose=False\n",
    "               )\n",
    "        pred = clf.predict(X_valid)\n",
    "        \n",
    "        accuracy = mean_absolute_error(y_valid, pred)\n",
    "        n_est_used = len(clf.get_booster().get_dump())\n",
    "        \n",
    "        acc.append(accuracy)\n",
    "        n_est.append(n_est_used)\n",
    "\n",
    "    accuracy = np.mean(acc)\n",
    "    n_est_used = int(np.mean(n_est))\n",
    "\n",
    "    #print (\"MAE: \"+ str(int(round(accuracy,0)))+\"; n_estimators \"+str(len(clf.get_booster().get_dump())))\n",
    "\n",
    "    \n",
    "    trials.results[-1][\"n_estimators\"] = n_est_used\n",
    "    \n",
    "    trials.trials[-1][\"misc\"][\"vals\"][\"n_estimators\"] = [n_est_used]\n",
    "    \n",
    "    return {'loss': accuracy, 'status': STATUS_OK, \"n_estimators\" : n_est_used}"
   ]
  },
  {
   "cell_type": "code",
   "execution_count": 52,
   "id": "af4c42cb-284d-4cb6-ae9b-45165e63ce54",
   "metadata": {},
   "outputs": [],
   "source": [
    "space={'max_depth': hp.quniform(\"max_depth\", 3, 18, 1),\n",
    "        'gamma': hp.uniform ('gamma', 1,9),\n",
    "        'reg_alpha' : hp.quniform('reg_alpha', 40,180,1),\n",
    "        'reg_lambda' : hp.uniform('reg_lambda', 0,1),\n",
    "        'colsample_bytree' : hp.uniform('colsample_bytree', 0.5,1),\n",
    "        'min_child_weight' : hp.quniform('min_child_weight', 0, 10, 1),\n",
    "        'n_estimators': hp.quniform('n_estimators', 999, 1000, 1),\n",
    "        'seed': 0\n",
    "    }"
   ]
  },
  {
   "cell_type": "code",
   "execution_count": 53,
   "id": "748c29ce-3048-4480-b9b4-55d9aa6e47f2",
   "metadata": {},
   "outputs": [
    {
     "name": "stdout",
     "output_type": "stream",
     "text": [
      "test\n"
     ]
    }
   ],
   "source": [
    "print(\"test\")"
   ]
  },
  {
   "cell_type": "code",
   "execution_count": 55,
   "id": "49a71652-93ee-403a-99da-e688d36d41a1",
   "metadata": {},
   "outputs": [
    {
     "name": "stdout",
     "output_type": "stream",
     "text": [
      "100%|███████████████████████████████████████████████████| 5/5 [00:08<00:00,  1.68s/trial, best loss: 17401.41070939781]\n"
     ]
    }
   ],
   "source": [
    "trials = Trials()\n",
    "\n",
    "best_hyperparams = fmin(fn = objective,\n",
    "                        space = space,\n",
    "                        algo = tpe.suggest,\n",
    "                        max_evals = 5,\n",
    "                        trials = trials)"
   ]
  },
  {
   "cell_type": "code",
   "execution_count": 56,
   "id": "754be365-0463-4f13-8135-d0545a914c5a",
   "metadata": {},
   "outputs": [
    {
     "name": "stdout",
     "output_type": "stream",
     "text": [
      "The best hyperparameters are :  \n",
      "\n",
      "{'colsample_bytree': 0.7163817559802497, 'gamma': 1.9061627708747721, 'max_depth': 5.0, 'min_child_weight': 2.0, 'n_estimators': 53, 'reg_alpha': 143.0, 'reg_lambda': 0.8089303073248616}\n"
     ]
    }
   ],
   "source": [
    "print(\"The best hyperparameters are : \",\"\\n\")\n",
    "print(best_hyperparams)"
   ]
  },
  {
   "cell_type": "code",
   "execution_count": null,
   "id": "5965c4dd-f08d-4961-8e91-d74241ef068b",
   "metadata": {},
   "outputs": [],
   "source": [
    "n_est_test = [2**i for i in range(0,13)]\n",
    "print(n_est_test)"
   ]
  },
  {
   "cell_type": "code",
   "execution_count": null,
   "id": "b1b02af8-f92a-43d2-8344-27fa918a0650",
   "metadata": {},
   "outputs": [],
   "source": [
    "def test_n_ests(n_est):\n",
    "    clf=XGBRegressor(\n",
    "                    n_estimators = int(n_est), \n",
    "                    max_depth = int(best_hyperparams['max_depth']), \n",
    "                    gamma = best_hyperparams['gamma'],\n",
    "                    reg_alpha = best_hyperparams['reg_alpha'],\n",
    "                    min_child_weight = best_hyperparams['min_child_weight'],\n",
    "                    colsample_bytree = best_hyperparams['colsample_bytree']\n",
    "    )\n",
    "\n",
    "    clf.fit(X, y, \n",
    "            eval_metric=\"mae\",\n",
    "            verbose=True\n",
    "    )\n",
    "\n",
    "    predict = clf.predict(X_hold)\n",
    "\n",
    "    accuracy = mean_absolute_error(predict, y_hold)\n",
    "    \n",
    "    return accuracy"
   ]
  },
  {
   "cell_type": "code",
   "execution_count": null,
   "id": "644f85b0-68f0-4e50-b474-b04bdd685e5f",
   "metadata": {},
   "outputs": [],
   "source": [
    "acc = []\n",
    "for i in n_est_test:\n",
    "    acc.append(test_n_ests(i))"
   ]
  },
  {
   "cell_type": "code",
   "execution_count": null,
   "id": "f803d4ad-202e-46b7-9d66-69d2e2d8791b",
   "metadata": {},
   "outputs": [],
   "source": [
    "print(acc)\n",
    "plt.loglog(n_est_test, acc)\n",
    "plt.plot([best_hyperparams['n_estimators'], best_hyperparams['n_estimators']], [0,1e6], color=\"red\")\n",
    "plt.ylim(10000, 30000)\n",
    "plt.show()"
   ]
  },
  {
   "cell_type": "code",
   "execution_count": 59,
   "id": "05fe444c-d7c6-4f52-a071-cadd248c659a",
   "metadata": {},
   "outputs": [],
   "source": [
    "clf=XGBRegressor(\n",
    "                n_estimators = int(best_hyperparams['n_estimators']), \n",
    "                max_depth = int(best_hyperparams['max_depth']), \n",
    "                gamma = best_hyperparams['gamma'],\n",
    "                reg_alpha = best_hyperparams['reg_alpha'],\n",
    "                reg_lambda = best_hyperparams[\"reg_lambda\"],\n",
    "                min_child_weight = best_hyperparams['min_child_weight'],\n",
    "                colsample_bytree = best_hyperparams['colsample_bytree']\n",
    ")\n",
    "\n",
    "clf.fit(X, y, \n",
    "        eval_metric=\"mae\",\n",
    "        verbose=True\n",
    ")\n",
    "\n",
    "predict = clf.predict(X_test)"
   ]
  },
  {
   "cell_type": "code",
   "execution_count": 58,
   "id": "9e173316-4586-4383-bb6b-a611f703afc6",
   "metadata": {},
   "outputs": [
    {
     "ename": "NameError",
     "evalue": "name 'y_test' is not defined",
     "output_type": "error",
     "traceback": [
      "\u001b[1;31m---------------------------------------------------------------------------\u001b[0m",
      "\u001b[1;31mNameError\u001b[0m                                 Traceback (most recent call last)",
      "\u001b[1;32m~\\AppData\\Local\\Temp/ipykernel_9880/380348868.py\u001b[0m in \u001b[0;36m<module>\u001b[1;34m\u001b[0m\n\u001b[1;32m----> 1\u001b[1;33m \u001b[0msubmission\u001b[0m \u001b[1;33m=\u001b[0m \u001b[0mpd\u001b[0m\u001b[1;33m.\u001b[0m\u001b[0mDataFrame\u001b[0m\u001b[1;33m(\u001b[0m\u001b[1;33m{\u001b[0m\u001b[1;34m\"Id\"\u001b[0m\u001b[1;33m:\u001b[0m\u001b[0mX_test_id\u001b[0m\u001b[1;33m,\u001b[0m \u001b[1;34m\"SalePrice\"\u001b[0m\u001b[1;33m:\u001b[0m\u001b[0my_test\u001b[0m\u001b[1;33m}\u001b[0m\u001b[1;33m)\u001b[0m\u001b[1;33m\u001b[0m\u001b[1;33m\u001b[0m\u001b[0m\n\u001b[0m\u001b[0;32m      2\u001b[0m \u001b[1;33m\u001b[0m\u001b[0m\n\u001b[0;32m      3\u001b[0m \u001b[0msubmission\u001b[0m\u001b[1;33m.\u001b[0m\u001b[0mto_csv\u001b[0m\u001b[1;33m(\u001b[0m\u001b[1;34m\"../skl-XGBoost/submission.csv\"\u001b[0m\u001b[1;33m,\u001b[0m \u001b[0msep\u001b[0m \u001b[1;33m=\u001b[0m\u001b[1;34m\",\"\u001b[0m\u001b[1;33m,\u001b[0m \u001b[0mindex\u001b[0m \u001b[1;33m=\u001b[0m \u001b[1;32mFalse\u001b[0m\u001b[1;33m)\u001b[0m\u001b[1;33m\u001b[0m\u001b[1;33m\u001b[0m\u001b[0m\n",
      "\u001b[1;31mNameError\u001b[0m: name 'y_test' is not defined"
     ]
    }
   ],
   "source": [
    "submission = pd.DataFrame({\"Id\":X_test_id, \"SalePrice\":y_test})\n",
    "\n",
    "submission.to_csv(\"../skl-XGBoost/submission.csv\", sep =\",\", index = False)"
   ]
  },
  {
   "cell_type": "markdown",
   "id": "369b35a0-01b3-464e-adde-a09b00fb0126",
   "metadata": {},
   "source": [
    "# Function Building"
   ]
  },
  {
   "cell_type": "code",
   "execution_count": null,
   "id": "b2525dbd-8d46-4fc3-8b2f-5f02ceea937d",
   "metadata": {},
   "outputs": [],
   "source": [
    "\"\"\"CORRELATED FEATURES\"\"\"\n",
    "#\"\"\"\n",
    "train = pd.read_csv(\"../data/train_correlated.csv\")\n",
    "\n",
    "X_test = pd.read_csv(\"../data/test_correlated.csv\")\n",
    "X_test_id = pd.read_csv(\"../data/raw_test.csv\")[\"Id\"]\n",
    "\n",
    "headers = X_test.columns\n",
    "\n",
    "y_all = train[\"SalePrice\"]\n",
    "X_all = train.drop(columns=[\"SalePrice\"])[headers]\n",
    "#\"\"\""
   ]
  },
  {
   "cell_type": "code",
   "execution_count": null,
   "id": "cbd72691-c771-4cae-967c-76ff24da9c32",
   "metadata": {},
   "outputs": [],
   "source": [
    "X, X_hold, y, y_hold = train_test_split(X_all,y_all)"
   ]
  },
  {
   "cell_type": "code",
   "execution_count": null,
   "id": "51d78a97-f18f-4e26-9fa8-e31c2614e052",
   "metadata": {},
   "outputs": [],
   "source": [
    "X_hold = X_hold.reset_index()\n",
    "y_hold = y_hold.reset_index()\n",
    "\n",
    "X_hold = X_hold.drop(columns = [\"index\"])\n",
    "y_hold = y_hold.drop(columns = [\"index\"])"
   ]
  },
  {
   "cell_type": "code",
   "execution_count": 34,
   "id": "2e06d778-fd05-46ab-a990-52c81f263e2f",
   "metadata": {},
   "outputs": [],
   "source": [
    "def XGB_val_in_hyperopt(XGBModel, X, y, early_stop_num = 10):\n",
    "    X_train, X_valid, y_train, y_valid = train_test_split(X,y)\n",
    "    evaluation = [( X_train, y_train), ( X_valid, y_valid)]\n",
    "    \n",
    "    XGBModel.fit(X_train, y_train,\n",
    "                eval_set=evaluation, \n",
    "                eval_metric=\"mae\",\n",
    "                early_stopping_rounds=early_stop_num,\n",
    "                verbose=False\n",
    "                )\n",
    "    predict = XGBModel.predict(X_valid)\n",
    "    accuracy = XGBModel.predict(X_valid)\n",
    "    n_est_used = len(XGBModel.get_booster().get_dump())\n",
    "    \n",
    "    return accuracy, n_est_used"
   ]
  },
  {
   "cell_type": "code",
   "execution_count": 60,
   "id": "d4cfb505-05b9-4cfe-8404-c535edc6173e",
   "metadata": {},
   "outputs": [],
   "source": [
    "\"\"\"Linear Regressor\"\"\"\n",
    "def linear_objective(space):\n",
    "    clf=XGBRegressor(\n",
    "                    n_estimators = int(space['n_estimators']), \n",
    "                    max_depth = int(space['max_depth']), \n",
    "                    gamma = space['gamma'],\n",
    "                    reg_alpha = space['reg_alpha'],\n",
    "                    reg_lambda = space['reg_lambda'],\n",
    "                    min_child_weight= space['min_child_weight'],\n",
    "                    colsample_bytree= space['colsample_bytree'],\n",
    "    )\n",
    "    \n",
    "    \n",
    "    acc = []\n",
    "    n_est = []\n",
    "    for i in range(5):\n",
    "        accuracy, n_est_used = XGB_val_in_hyperopt(XGBModel = clf, X = X, y = y, early_stop_num = 10)\n",
    "        acc.append(accuracy)\n",
    "        n_est.append(n_est_used)\n",
    "    \n",
    "    accuracy = np.mean(acc)\n",
    "    n_est_used = int(np.mean(n_est))\n",
    "    \n",
    "    trials.results[-1][\"n_estimators\"] = n_est_used\n",
    "    \n",
    "    trials.trials[-1][\"misc\"][\"vals\"][\"n_estimators\"] = [n_est_used]\n",
    "    \n",
    "    return {'loss': accuracy, 'status': STATUS_OK, \"n_estimators\" : n_est_used}"
   ]
  },
  {
   "cell_type": "code",
   "execution_count": 61,
   "id": "02f86a37-81a2-4a1f-8bd5-de99af8337ea",
   "metadata": {},
   "outputs": [],
   "source": [
    "def XGB_optimised_model(X, y, X_test, num_search = 100):\n",
    "    \n",
    "    trials = Trials()\n",
    "\n",
    "    best_hyperparams = fmin(fn = linear_objective,\n",
    "                            space = space,\n",
    "                            algo = tpe.suggest,\n",
    "                            max_evals = num_search,\n",
    "                            trials = trials)\n",
    "    clf=XGBRegressor(\n",
    "                n_estimators = int(best_hyperparams['n_estimators']), \n",
    "                max_depth = int(best_hyperparams['max_depth']), \n",
    "                gamma = best_hyperparams['gamma'],\n",
    "                reg_alpha = best_hyperparams['reg_alpha'],\n",
    "                reg_lambda = best_hyperparams['reg_lambda'],\n",
    "                min_child_weight = best_hyperparams['min_child_weight'],\n",
    "                colsample_bytree = best_hyperparams['colsample_bytree']\n",
    "    )\n",
    "\n",
    "    clf.fit(X, y, \n",
    "            eval_metric=\"mae\",\n",
    "            verbose=True\n",
    "    )\n",
    "\n",
    "    predict = clf.predict(X_test)\n",
    "\n",
    "    return predict"
   ]
  },
  {
   "cell_type": "code",
   "execution_count": 62,
   "id": "6146dfc3-e41e-4294-a81b-75c904307125",
   "metadata": {},
   "outputs": [],
   "source": [
    "def XGB_optimised_ensamble(X, y, X_test, num_search = 20, num_models = 12):\n",
    "    output = pd.DataFrame()\n",
    "    \n",
    "    for i in range(num_models):\n",
    "        output[\"model_\"+str(i)] = XGB_optimised_model(X, y, X_test, num_search)\n",
    "    \n",
    "    return output"
   ]
  },
  {
   "cell_type": "code",
   "execution_count": 63,
   "id": "15fe4c44-0601-492f-ad69-3ff9a1b977b6",
   "metadata": {},
   "outputs": [],
   "source": [
    "space={'max_depth': hp.quniform(\"max_depth\", 3, 18, 1),\n",
    "        'gamma': hp.uniform ('gamma', 1,9),\n",
    "        'reg_alpha' : hp.quniform('reg_alpha', 40,180,1),\n",
    "        'reg_lambda' : hp.uniform('reg_lambda', 0,1),\n",
    "        'colsample_bytree' : hp.uniform('colsample_bytree', 0.5,1),\n",
    "        'min_child_weight' : hp.quniform('min_child_weight', 0, 10, 1),\n",
    "        'n_estimators': hp.quniform('n_estimators', 999, 1000, 1),\n",
    "        'seed': 0\n",
    "    }"
   ]
  },
  {
   "cell_type": "code",
   "execution_count": 83,
   "id": "a28c58e5-3541-4920-8733-9a38f0ee4172",
   "metadata": {},
   "outputs": [
    {
     "name": "stdout",
     "output_type": "stream",
     "text": [
      "100%|████████████████████████████████████████████████████████| 1/1 [00:01<00:00,  1.52s/trial, best loss: 179305.59375]\n"
     ]
    }
   ],
   "source": [
    "models = XGB_optimised_ensamble(X, y, X_test = X_hold, num_search = 1, num_models = 1)"
   ]
  },
  {
   "cell_type": "code",
   "execution_count": 84,
   "id": "67c45ece-55ba-44eb-82c9-9138217df6cf",
   "metadata": {},
   "outputs": [
    {
     "data": {
      "text/html": [
       "<div>\n",
       "<style scoped>\n",
       "    .dataframe tbody tr th:only-of-type {\n",
       "        vertical-align: middle;\n",
       "    }\n",
       "\n",
       "    .dataframe tbody tr th {\n",
       "        vertical-align: top;\n",
       "    }\n",
       "\n",
       "    .dataframe thead th {\n",
       "        text-align: right;\n",
       "    }\n",
       "</style>\n",
       "<table border=\"1\" class=\"dataframe\">\n",
       "  <thead>\n",
       "    <tr style=\"text-align: right;\">\n",
       "      <th></th>\n",
       "      <th>model_0</th>\n",
       "    </tr>\n",
       "  </thead>\n",
       "  <tbody>\n",
       "    <tr>\n",
       "      <th>0</th>\n",
       "      <td>383771.968750</td>\n",
       "    </tr>\n",
       "    <tr>\n",
       "      <th>1</th>\n",
       "      <td>260128.406250</td>\n",
       "    </tr>\n",
       "    <tr>\n",
       "      <th>2</th>\n",
       "      <td>315546.593750</td>\n",
       "    </tr>\n",
       "    <tr>\n",
       "      <th>3</th>\n",
       "      <td>182214.593750</td>\n",
       "    </tr>\n",
       "    <tr>\n",
       "      <th>4</th>\n",
       "      <td>124777.414062</td>\n",
       "    </tr>\n",
       "    <tr>\n",
       "      <th>...</th>\n",
       "      <td>...</td>\n",
       "    </tr>\n",
       "    <tr>\n",
       "      <th>360</th>\n",
       "      <td>111390.804688</td>\n",
       "    </tr>\n",
       "    <tr>\n",
       "      <th>361</th>\n",
       "      <td>174139.250000</td>\n",
       "    </tr>\n",
       "    <tr>\n",
       "      <th>362</th>\n",
       "      <td>85209.507812</td>\n",
       "    </tr>\n",
       "    <tr>\n",
       "      <th>363</th>\n",
       "      <td>271709.375000</td>\n",
       "    </tr>\n",
       "    <tr>\n",
       "      <th>364</th>\n",
       "      <td>204372.234375</td>\n",
       "    </tr>\n",
       "  </tbody>\n",
       "</table>\n",
       "<p>365 rows × 1 columns</p>\n",
       "</div>"
      ],
      "text/plain": [
       "           model_0\n",
       "0    383771.968750\n",
       "1    260128.406250\n",
       "2    315546.593750\n",
       "3    182214.593750\n",
       "4    124777.414062\n",
       "..             ...\n",
       "360  111390.804688\n",
       "361  174139.250000\n",
       "362   85209.507812\n",
       "363  271709.375000\n",
       "364  204372.234375\n",
       "\n",
       "[365 rows x 1 columns]"
      ]
     },
     "execution_count": 84,
     "metadata": {},
     "output_type": "execute_result"
    }
   ],
   "source": [
    "models"
   ]
  },
  {
   "cell_type": "code",
   "execution_count": 85,
   "id": "0b89c343-5a7c-4e28-9dd1-e0605ff3d9a6",
   "metadata": {},
   "outputs": [
    {
     "data": {
      "text/html": [
       "<div>\n",
       "<style scoped>\n",
       "    .dataframe tbody tr th:only-of-type {\n",
       "        vertical-align: middle;\n",
       "    }\n",
       "\n",
       "    .dataframe tbody tr th {\n",
       "        vertical-align: top;\n",
       "    }\n",
       "\n",
       "    .dataframe thead th {\n",
       "        text-align: right;\n",
       "    }\n",
       "</style>\n",
       "<table border=\"1\" class=\"dataframe\">\n",
       "  <thead>\n",
       "    <tr style=\"text-align: right;\">\n",
       "      <th></th>\n",
       "      <th>Ensamble Model</th>\n",
       "      <th>Actual</th>\n",
       "    </tr>\n",
       "  </thead>\n",
       "  <tbody>\n",
       "    <tr>\n",
       "      <th>0</th>\n",
       "      <td>383771.968750</td>\n",
       "      <td>325624</td>\n",
       "    </tr>\n",
       "    <tr>\n",
       "      <th>1</th>\n",
       "      <td>260128.406250</td>\n",
       "      <td>250000</td>\n",
       "    </tr>\n",
       "    <tr>\n",
       "      <th>2</th>\n",
       "      <td>315546.593750</td>\n",
       "      <td>299800</td>\n",
       "    </tr>\n",
       "    <tr>\n",
       "      <th>3</th>\n",
       "      <td>182214.593750</td>\n",
       "      <td>194000</td>\n",
       "    </tr>\n",
       "    <tr>\n",
       "      <th>4</th>\n",
       "      <td>124777.414062</td>\n",
       "      <td>137000</td>\n",
       "    </tr>\n",
       "    <tr>\n",
       "      <th>...</th>\n",
       "      <td>...</td>\n",
       "      <td>...</td>\n",
       "    </tr>\n",
       "    <tr>\n",
       "      <th>360</th>\n",
       "      <td>111390.804688</td>\n",
       "      <td>90350</td>\n",
       "    </tr>\n",
       "    <tr>\n",
       "      <th>361</th>\n",
       "      <td>174139.250000</td>\n",
       "      <td>179200</td>\n",
       "    </tr>\n",
       "    <tr>\n",
       "      <th>362</th>\n",
       "      <td>85209.507812</td>\n",
       "      <td>93500</td>\n",
       "    </tr>\n",
       "    <tr>\n",
       "      <th>363</th>\n",
       "      <td>271709.375000</td>\n",
       "      <td>255900</td>\n",
       "    </tr>\n",
       "    <tr>\n",
       "      <th>364</th>\n",
       "      <td>204372.234375</td>\n",
       "      <td>207000</td>\n",
       "    </tr>\n",
       "  </tbody>\n",
       "</table>\n",
       "<p>365 rows × 2 columns</p>\n",
       "</div>"
      ],
      "text/plain": [
       "     Ensamble Model  Actual\n",
       "0     383771.968750  325624\n",
       "1     260128.406250  250000\n",
       "2     315546.593750  299800\n",
       "3     182214.593750  194000\n",
       "4     124777.414062  137000\n",
       "..              ...     ...\n",
       "360   111390.804688   90350\n",
       "361   174139.250000  179200\n",
       "362    85209.507812   93500\n",
       "363   271709.375000  255900\n",
       "364   204372.234375  207000\n",
       "\n",
       "[365 rows x 2 columns]"
      ]
     },
     "execution_count": 85,
     "metadata": {},
     "output_type": "execute_result"
    }
   ],
   "source": [
    "output = pd.DataFrame({\"Ensamble Model\":models.mean(axis = 1), \"Actual\":y_hold[\"SalePrice\"]})\n",
    "output"
   ]
  },
  {
   "cell_type": "code",
   "execution_count": 81,
   "id": "45dfa64a-cbd1-4a5f-a3ad-792fcc9f664f",
   "metadata": {},
   "outputs": [
    {
     "data": {
      "text/html": [
       "<div>\n",
       "<style scoped>\n",
       "    .dataframe tbody tr th:only-of-type {\n",
       "        vertical-align: middle;\n",
       "    }\n",
       "\n",
       "    .dataframe tbody tr th {\n",
       "        vertical-align: top;\n",
       "    }\n",
       "\n",
       "    .dataframe thead th {\n",
       "        text-align: right;\n",
       "    }\n",
       "</style>\n",
       "<table border=\"1\" class=\"dataframe\">\n",
       "  <thead>\n",
       "    <tr style=\"text-align: right;\">\n",
       "      <th></th>\n",
       "      <th>Ensamble Model</th>\n",
       "      <th>Actual</th>\n",
       "    </tr>\n",
       "  </thead>\n",
       "  <tbody>\n",
       "    <tr>\n",
       "      <th>0</th>\n",
       "      <td>388395.562500</td>\n",
       "      <td>325624</td>\n",
       "    </tr>\n",
       "    <tr>\n",
       "      <th>1</th>\n",
       "      <td>251278.953125</td>\n",
       "      <td>250000</td>\n",
       "    </tr>\n",
       "    <tr>\n",
       "      <th>2</th>\n",
       "      <td>311293.531250</td>\n",
       "      <td>299800</td>\n",
       "    </tr>\n",
       "    <tr>\n",
       "      <th>3</th>\n",
       "      <td>184633.781250</td>\n",
       "      <td>194000</td>\n",
       "    </tr>\n",
       "    <tr>\n",
       "      <th>4</th>\n",
       "      <td>118882.914062</td>\n",
       "      <td>137000</td>\n",
       "    </tr>\n",
       "    <tr>\n",
       "      <th>...</th>\n",
       "      <td>...</td>\n",
       "      <td>...</td>\n",
       "    </tr>\n",
       "    <tr>\n",
       "      <th>360</th>\n",
       "      <td>103812.414062</td>\n",
       "      <td>90350</td>\n",
       "    </tr>\n",
       "    <tr>\n",
       "      <th>361</th>\n",
       "      <td>168343.718750</td>\n",
       "      <td>179200</td>\n",
       "    </tr>\n",
       "    <tr>\n",
       "      <th>362</th>\n",
       "      <td>86348.679688</td>\n",
       "      <td>93500</td>\n",
       "    </tr>\n",
       "    <tr>\n",
       "      <th>363</th>\n",
       "      <td>269495.562500</td>\n",
       "      <td>255900</td>\n",
       "    </tr>\n",
       "    <tr>\n",
       "      <th>364</th>\n",
       "      <td>190796.093750</td>\n",
       "      <td>207000</td>\n",
       "    </tr>\n",
       "  </tbody>\n",
       "</table>\n",
       "<p>365 rows × 2 columns</p>\n",
       "</div>"
      ],
      "text/plain": [
       "     Ensamble Model  Actual\n",
       "0     388395.562500  325624\n",
       "1     251278.953125  250000\n",
       "2     311293.531250  299800\n",
       "3     184633.781250  194000\n",
       "4     118882.914062  137000\n",
       "..              ...     ...\n",
       "360   103812.414062   90350\n",
       "361   168343.718750  179200\n",
       "362    86348.679688   93500\n",
       "363   269495.562500  255900\n",
       "364   190796.093750  207000\n",
       "\n",
       "[365 rows x 2 columns]"
      ]
     },
     "execution_count": 81,
     "metadata": {},
     "output_type": "execute_result"
    }
   ],
   "source": [
    "output = pd.DataFrame({\"Ensamble Model\":models.mean(axis = 1), \"Actual\":y_hold[\"SalePrice\"]})\n",
    "output"
   ]
  },
  {
   "cell_type": "code",
   "execution_count": 86,
   "id": "9a235182-e551-4bdb-ad4b-39569526c581",
   "metadata": {},
   "outputs": [
    {
     "data": {
      "text/plain": [
       "0.10754352385062547"
      ]
     },
     "execution_count": 86,
     "metadata": {},
     "output_type": "execute_result"
    }
   ],
   "source": [
    "mean_absolute_error(output[\"Ensamble Model\"], output[\"Actual\"])*365/np.sum(output[\"Actual\"])"
   ]
  },
  {
   "cell_type": "code",
   "execution_count": null,
   "id": "c3e51d7f-d470-4b18-969c-63e4683cd15f",
   "metadata": {},
   "outputs": [],
   "source": [
    "def XGB_evaluate_ensamble(ensamble_output, y_hold):\n",
    "    ensamble = pd.DataFrame({\"Ensamble Model\":ensamble_output.mean(axis = 1), \"Actual\":y_hold[\"SalePrice\"]})\n",
    "    ensamble_mae = mean_absolute_error(ensamble[\"Ensamble Model\"], ensamble[\"Actual\"])\n",
    "    return ensamble, ensamble_mae"
   ]
  },
  {
   "cell_type": "code",
   "execution_count": null,
   "id": "38a66450-f130-4310-acd5-985cfe7ab21b",
   "metadata": {},
   "outputs": [],
   "source": [
    "searches = range(1,15)\n",
    "maes = []\n",
    "\n",
    "for i in searches:\n",
    "    models = XGB_optimised_ensamble(X, y, X_test = X_hold, num_search = i, num_models = 5)\n",
    "    _, ensamble_mae = XGB_evaluate_ensamble(ensamble_output = models, y_hold = y_hold)\n",
    "    maes.append(ensamble_mae)"
   ]
  },
  {
   "cell_type": "code",
   "execution_count": null,
   "id": "1181e4a3-5c35-4bcf-b456-82dfc356b02a",
   "metadata": {},
   "outputs": [],
   "source": [
    "plt.plot(searches, maes)\n",
    "plt.show()"
   ]
  },
  {
   "cell_type": "code",
   "execution_count": null,
   "id": "bd889c3e-9978-40df-9bc2-3a108312df1c",
   "metadata": {},
   "outputs": [],
   "source": [
    "n_models = range(1,25)\n",
    "maes = []\n",
    "\n",
    "for i in n_models:\n",
    "    models = XGB_optimised_ensamble(X, y, X_test = X_hold, num_search = 10, num_models = i)\n",
    "    _, ensamble_mae = XGB_evaluate_ensamble(ensamble_output = models, y_hold = y_hold)\n",
    "    maes.append(ensamble_mae)"
   ]
  },
  {
   "cell_type": "code",
   "execution_count": null,
   "id": "bc92b94f-94d1-4ad6-af06-6b0f30494cb7",
   "metadata": {},
   "outputs": [],
   "source": [
    "plt.plot(n_models, maes)\n",
    "plt.show()"
   ]
  },
  {
   "cell_type": "code",
   "execution_count": null,
   "id": "130bf05d-a2da-44ae-aa5b-c39bfc005b48",
   "metadata": {},
   "outputs": [],
   "source": []
  }
 ],
 "metadata": {
  "kernelspec": {
   "display_name": "Python 3 (ipykernel)",
   "language": "python",
   "name": "python3"
  },
  "language_info": {
   "codemirror_mode": {
    "name": "ipython",
    "version": 3
   },
   "file_extension": ".py",
   "mimetype": "text/x-python",
   "name": "python",
   "nbconvert_exporter": "python",
   "pygments_lexer": "ipython3",
   "version": "3.7.2"
  }
 },
 "nbformat": 4,
 "nbformat_minor": 5
}
