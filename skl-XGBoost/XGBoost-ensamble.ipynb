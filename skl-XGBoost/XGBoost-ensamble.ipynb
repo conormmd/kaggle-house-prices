{
 "cells": [
  {
   "cell_type": "markdown",
   "id": "f23034d2-4681-4344-b3f8-bfabe878258b",
   "metadata": {},
   "source": [
    "https://towardsdatascience.com/a-conceptual-explanation-of-bayesian-model-based-hyperparameter-optimization-for-machine-learning-b8172278050f"
   ]
  },
  {
   "cell_type": "markdown",
   "id": "9ef94a1c-4b32-45cb-a45e-ddd2c8749e74",
   "metadata": {
    "tags": []
   },
   "source": [
    "## Importing modules\n",
    "### Seperated between libraries to keep track"
   ]
  },
  {
   "cell_type": "code",
   "execution_count": 1,
   "id": "649a2678-dd36-481e-b91e-795a294052d4",
   "metadata": {},
   "outputs": [],
   "source": [
    "import numpy as np"
   ]
  },
  {
   "cell_type": "code",
   "execution_count": 2,
   "id": "8401ade2-b9da-41d1-a41e-09c8b4b414fb",
   "metadata": {},
   "outputs": [],
   "source": [
    "import pandas as pd\n",
    "pd.set_option('display.max_colwidth', None)\n",
    "pd.set_option('display.max_columns', None)  "
   ]
  },
  {
   "cell_type": "code",
   "execution_count": 3,
   "id": "628b8e05-d543-4436-8d30-0eea0e579cbb",
   "metadata": {},
   "outputs": [],
   "source": [
    "import matplotlib.pyplot as plt\n",
    "%matplotlib inline"
   ]
  },
  {
   "cell_type": "code",
   "execution_count": 4,
   "id": "3924d4c9-b2e8-4807-a297-066e29ad4a75",
   "metadata": {},
   "outputs": [],
   "source": [
    "from xgboost import XGBRegressor"
   ]
  },
  {
   "cell_type": "code",
   "execution_count": 5,
   "id": "29cefcdd-7b19-4268-90b2-a675b8a83fb9",
   "metadata": {},
   "outputs": [],
   "source": [
    "from sklearn.model_selection import train_test_split\n",
    "from sklearn.pipeline import Pipeline\n",
    "from sklearn.impute import SimpleImputer\n",
    "from sklearn.model_selection import cross_val_score\n",
    "from sklearn.metrics import mean_absolute_error"
   ]
  },
  {
   "cell_type": "code",
   "execution_count": 6,
   "id": "66c62664-fec5-4553-aace-bb563fcea159",
   "metadata": {},
   "outputs": [],
   "source": [
    "from hyperopt import hp\n",
    "from hyperopt import STATUS_OK, Trials, fmin, hp, tpe"
   ]
  },
  {
   "cell_type": "markdown",
   "id": "369b35a0-01b3-464e-adde-a09b00fb0126",
   "metadata": {},
   "source": [
    "# Function Building"
   ]
  },
  {
   "cell_type": "code",
   "execution_count": 103,
   "id": "b2525dbd-8d46-4fc3-8b2f-5f02ceea937d",
   "metadata": {},
   "outputs": [
    {
     "data": {
      "text/plain": [
       "'\\ntrain = pd.read_csv(\"../data/train_correlated.csv\")\\n\\nX_test = pd.read_csv(\"../data/test_correlated.csv\")\\nX_test_id = pd.read_csv(\"../data/raw_test.csv\")[\"Id\"]\\n\\nheaders = X_test.columns\\n\\ny_all = train[\"SalePrice\"]\\nX_all = train.drop(columns=[\"SalePrice\"])[headers]\\n'"
      ]
     },
     "execution_count": 103,
     "metadata": {},
     "output_type": "execute_result"
    }
   ],
   "source": [
    "\"\"\"CORRELATED FEATURES\"\"\"\n",
    "\"\"\"\n",
    "train = pd.read_csv(\"../data/train_correlated.csv\")\n",
    "\n",
    "X_test = pd.read_csv(\"../data/test_correlated.csv\")\n",
    "X_test_id = pd.read_csv(\"../data/raw_test.csv\")[\"Id\"]\n",
    "\n",
    "headers = X_test.columns\n",
    "\n",
    "y_all = train[\"SalePrice\"]\n",
    "X_all = train.drop(columns=[\"SalePrice\"])[headers]\n",
    "\"\"\""
   ]
  },
  {
   "cell_type": "code",
   "execution_count": 104,
   "id": "eaaf7ebf-44d3-4a4e-90f7-a4abc33c2e63",
   "metadata": {},
   "outputs": [],
   "source": [
    "\"\"\"ALL FEATURES [X, y]\"\"\"\n",
    "train = pd.read_csv(\"../data/data_all_features.csv\")\n",
    "\n",
    "X_test = pd.read_csv(\"../data/test_all_features.csv\")\n",
    "X_test_id = pd.read_csv(\"../data/raw_test.csv\")[\"Id\"]\n",
    "\n",
    "headers = X_test.columns\n",
    "\n",
    "y_all = train[\"SalePrice\"]\n",
    "X_all = train.drop(columns=[\"SalePrice\"])[headers]\n",
    "\n",
    "X, X_hold, y, y_hold = train_test_split(X_all,y_all)\n",
    "\n",
    "X_hold = X_hold.reset_index()\n",
    "y_hold = y_hold.reset_index()\n",
    "\n",
    "original_index = y_hold[\"index\"]\n",
    "X_hold = X_hold.drop(columns = [\"index\"])\n",
    "y_hold = y_hold.drop(columns = [\"index\"])\n",
    "\n",
    "\"\"\"20% CORRELATED FEATURES [X_20, y_20]\"\"\"\n",
    "features_20 = pd.read_csv(\"../data/test_correlated.csv\").columns\n",
    "X_20 = X[features_20]\n",
    "X_hold_20 = X_hold[features_20]"
   ]
  },
  {
   "cell_type": "code",
   "execution_count": 105,
   "id": "2e06d778-fd05-46ab-a990-52c81f263e2f",
   "metadata": {},
   "outputs": [],
   "source": [
    "def XGB_val_in_hyperopt(XGBModel, X, y, early_stop_num = 10):\n",
    "    X_train, X_valid, y_train, y_valid = train_test_split(X,y)\n",
    "    evaluation = [( X_train, y_train), ( X_valid, y_valid)]\n",
    "    \n",
    "    XGBModel.fit(X_train, y_train,\n",
    "                eval_set=evaluation, \n",
    "                eval_metric=\"mae\",\n",
    "                early_stopping_rounds=early_stop_num,\n",
    "                verbose=False\n",
    "                )\n",
    "    predict = XGBModel.predict(X_valid)\n",
    "    accuracy = XGBModel.predict(X_valid)\n",
    "    n_est_used = len(XGBModel.get_booster().get_dump())\n",
    "    \n",
    "    return accuracy, n_est_used"
   ]
  },
  {
   "cell_type": "code",
   "execution_count": 106,
   "id": "d4cfb505-05b9-4cfe-8404-c535edc6173e",
   "metadata": {},
   "outputs": [],
   "source": [
    "\"\"\"Linear Regressor\"\"\"\n",
    "def linear_objective(space):\n",
    "    clf=XGBRegressor(\n",
    "                    n_estimators = int(space['n_estimators']), \n",
    "                    max_depth = int(space['max_depth']), \n",
    "                    gamma = space['gamma'],\n",
    "                    reg_alpha = space['reg_alpha'],\n",
    "                    reg_lambda = space['reg_lambda'],\n",
    "                    min_child_weight= space['min_child_weight'],\n",
    "                    colsample_bytree= space['colsample_bytree'],\n",
    "    )\n",
    "    \n",
    "    \n",
    "    acc = []\n",
    "    n_est = []\n",
    "    for i in range(5):\n",
    "        accuracy, n_est_used = XGB_val_in_hyperopt(XGBModel = clf, X = X, y = y, early_stop_num = 10)\n",
    "        acc.append(accuracy)\n",
    "        n_est.append(n_est_used)\n",
    "    \n",
    "    accuracy = np.mean(acc)\n",
    "    n_est_used = int(np.mean(n_est))\n",
    "    \n",
    "    trials.results[-1][\"n_estimators\"] = n_est_used\n",
    "    \n",
    "    trials.trials[-1][\"misc\"][\"vals\"][\"n_estimators\"] = [n_est_used]\n",
    "    \n",
    "    return {'loss': accuracy, 'status': STATUS_OK, \"n_estimators\" : n_est_used}"
   ]
  },
  {
   "cell_type": "code",
   "execution_count": 111,
   "id": "02f86a37-81a2-4a1f-8bd5-de99af8337ea",
   "metadata": {},
   "outputs": [],
   "source": [
    "def XGB_optimised_model(X, y, X_test, num_search = 100): ##NUM SEARCH = 100\n",
    "    global trials\n",
    "    trials = Trials()\n",
    "\n",
    "    best_hyperparams = fmin(fn = linear_objective,\n",
    "                            space = space,\n",
    "                            algo = tpe.suggest,\n",
    "                            max_evals = num_search,\n",
    "                            trials = trials)\n",
    "    clf=XGBRegressor(\n",
    "                n_estimators = int(best_hyperparams['n_estimators']), \n",
    "                max_depth = int(best_hyperparams['max_depth']), \n",
    "                gamma = best_hyperparams['gamma'],\n",
    "                reg_alpha = best_hyperparams['reg_alpha'],\n",
    "                reg_lambda = best_hyperparams['reg_lambda'],\n",
    "                min_child_weight = best_hyperparams['min_child_weight'],\n",
    "                colsample_bytree = best_hyperparams['colsample_bytree']\n",
    "    )\n",
    "\n",
    "    clf.fit(X, y, \n",
    "            eval_metric=\"mae\",\n",
    "            verbose=True\n",
    "    )\n",
    "\n",
    "    predict = clf.predict(X_test)\n",
    "\n",
    "    return predict, best_hyperparams, clf"
   ]
  },
  {
   "cell_type": "code",
   "execution_count": 112,
   "id": "6146dfc3-e41e-4294-a81b-75c904307125",
   "metadata": {},
   "outputs": [],
   "source": [
    "def XGB_optimised_ensamble(X, y, X_test, num_search = 10, num_models = 10):\n",
    "    predictions = {}\n",
    "    parameters = {}\n",
    "    models = {}\n",
    "    \n",
    "    for i in range(num_models):\n",
    "        predictions[\"model_\"+str(i)], parameters[\"model_\"+str(i)], models[\"model_\"+str(i)] = XGB_optimised_model(X, y, X_test, num_search)\n",
    "    \n",
    "    return predictions, parameters, models"
   ]
  },
  {
   "cell_type": "code",
   "execution_count": 113,
   "id": "590e7c74-2dbf-41bb-aa65-36e8e9faf385",
   "metadata": {},
   "outputs": [],
   "source": [
    "def test_ensamble(ensamble_models, X_test):\n",
    "    n_models = len(ensamble_models)\n",
    "    predictions = pd.DataFrame()\n",
    "    for i in range(n_models):\n",
    "        model = \"model_\"+str(i)\n",
    "        clf = ensamble_models[model]\n",
    "        predictions[model] = clf.predict(X_test)\n",
    "    \n",
    "    return predictions"
   ]
  },
  {
   "cell_type": "code",
   "execution_count": 114,
   "id": "15fe4c44-0601-492f-ad69-3ff9a1b977b6",
   "metadata": {},
   "outputs": [],
   "source": [
    "space={'max_depth': hp.quniform(\"max_depth\", 3, 18, 1),\n",
    "        'gamma': hp.uniform ('gamma', 1,9),\n",
    "        'reg_alpha' : hp.quniform('reg_alpha', 40,180,1),\n",
    "        'reg_lambda' : hp.uniform('reg_lambda', 0,1),\n",
    "        'colsample_bytree' : hp.uniform('colsample_bytree', 0.5,1),\n",
    "        'min_child_weight' : hp.quniform('min_child_weight', 0, 10, 1),\n",
    "        'n_estimators': hp.quniform('n_estimators', 999, 1000, 1),\n",
    "        'seed': 0\n",
    "    }"
   ]
  },
  {
   "cell_type": "code",
   "execution_count": 15,
   "id": "a28c58e5-3541-4920-8733-9a38f0ee4172",
   "metadata": {},
   "outputs": [
    {
     "name": "stdout",
     "output_type": "stream",
     "text": [
      " 20%|███████████                                            | 1/5 [00:07<00:30,  7.71s/trial, best loss: 184278.078125]\n"
     ]
    },
    {
     "ename": "KeyboardInterrupt",
     "evalue": "",
     "output_type": "error",
     "traceback": [
      "\u001b[1;31m---------------------------------------------------------------------------\u001b[0m",
      "\u001b[1;31mKeyboardInterrupt\u001b[0m                         Traceback (most recent call last)",
      "\u001b[1;32m~\\AppData\\Local\\Temp/ipykernel_11816/745869737.py\u001b[0m in \u001b[0;36m<module>\u001b[1;34m\u001b[0m\n\u001b[1;32m----> 1\u001b[1;33m \u001b[0mpredictions\u001b[0m\u001b[1;33m,\u001b[0m \u001b[0mparameters\u001b[0m\u001b[1;33m,\u001b[0m \u001b[0mmodels\u001b[0m \u001b[1;33m=\u001b[0m \u001b[0mXGB_optimised_ensamble\u001b[0m\u001b[1;33m(\u001b[0m\u001b[0mX\u001b[0m\u001b[1;33m,\u001b[0m \u001b[0my\u001b[0m\u001b[1;33m,\u001b[0m \u001b[0mX_test\u001b[0m \u001b[1;33m=\u001b[0m \u001b[0mX_hold\u001b[0m\u001b[1;33m,\u001b[0m \u001b[0mnum_search\u001b[0m \u001b[1;33m=\u001b[0m \u001b[1;36m5\u001b[0m\u001b[1;33m,\u001b[0m \u001b[0mnum_models\u001b[0m \u001b[1;33m=\u001b[0m \u001b[1;36m2\u001b[0m\u001b[1;33m)\u001b[0m\u001b[1;33m\u001b[0m\u001b[1;33m\u001b[0m\u001b[0m\n\u001b[0m",
      "\u001b[1;32m~\\AppData\\Local\\Temp/ipykernel_11816/329381161.py\u001b[0m in \u001b[0;36mXGB_optimised_ensamble\u001b[1;34m(X, y, X_test, num_search, num_models)\u001b[0m\n\u001b[0;32m      5\u001b[0m \u001b[1;33m\u001b[0m\u001b[0m\n\u001b[0;32m      6\u001b[0m     \u001b[1;32mfor\u001b[0m \u001b[0mi\u001b[0m \u001b[1;32min\u001b[0m \u001b[0mrange\u001b[0m\u001b[1;33m(\u001b[0m\u001b[0mnum_models\u001b[0m\u001b[1;33m)\u001b[0m\u001b[1;33m:\u001b[0m\u001b[1;33m\u001b[0m\u001b[1;33m\u001b[0m\u001b[0m\n\u001b[1;32m----> 7\u001b[1;33m         \u001b[0mpredictions\u001b[0m\u001b[1;33m[\u001b[0m\u001b[1;34m\"model_\"\u001b[0m\u001b[1;33m+\u001b[0m\u001b[0mstr\u001b[0m\u001b[1;33m(\u001b[0m\u001b[0mi\u001b[0m\u001b[1;33m)\u001b[0m\u001b[1;33m]\u001b[0m\u001b[1;33m,\u001b[0m \u001b[0mparameters\u001b[0m\u001b[1;33m[\u001b[0m\u001b[1;34m\"model_\"\u001b[0m\u001b[1;33m+\u001b[0m\u001b[0mstr\u001b[0m\u001b[1;33m(\u001b[0m\u001b[0mi\u001b[0m\u001b[1;33m)\u001b[0m\u001b[1;33m]\u001b[0m\u001b[1;33m,\u001b[0m \u001b[0mmodels\u001b[0m\u001b[1;33m[\u001b[0m\u001b[1;34m\"model_\"\u001b[0m\u001b[1;33m+\u001b[0m\u001b[0mstr\u001b[0m\u001b[1;33m(\u001b[0m\u001b[0mi\u001b[0m\u001b[1;33m)\u001b[0m\u001b[1;33m]\u001b[0m \u001b[1;33m=\u001b[0m \u001b[0mXGB_optimised_model\u001b[0m\u001b[1;33m(\u001b[0m\u001b[0mX\u001b[0m\u001b[1;33m,\u001b[0m \u001b[0my\u001b[0m\u001b[1;33m,\u001b[0m \u001b[0mX_test\u001b[0m\u001b[1;33m,\u001b[0m \u001b[0mnum_search\u001b[0m\u001b[1;33m)\u001b[0m\u001b[1;33m\u001b[0m\u001b[1;33m\u001b[0m\u001b[0m\n\u001b[0m\u001b[0;32m      8\u001b[0m \u001b[1;33m\u001b[0m\u001b[0m\n\u001b[0;32m      9\u001b[0m     \u001b[1;32mreturn\u001b[0m \u001b[0mpredictions\u001b[0m\u001b[1;33m,\u001b[0m \u001b[0mparameters\u001b[0m\u001b[1;33m,\u001b[0m \u001b[0mmodels\u001b[0m\u001b[1;33m\u001b[0m\u001b[1;33m\u001b[0m\u001b[0m\n",
      "\u001b[1;32m~\\AppData\\Local\\Temp/ipykernel_11816/3654523625.py\u001b[0m in \u001b[0;36mXGB_optimised_model\u001b[1;34m(X, y, X_test, num_search)\u001b[0m\n\u001b[0;32m      7\u001b[0m                             \u001b[0malgo\u001b[0m \u001b[1;33m=\u001b[0m \u001b[0mtpe\u001b[0m\u001b[1;33m.\u001b[0m\u001b[0msuggest\u001b[0m\u001b[1;33m,\u001b[0m\u001b[1;33m\u001b[0m\u001b[1;33m\u001b[0m\u001b[0m\n\u001b[0;32m      8\u001b[0m                             \u001b[0mmax_evals\u001b[0m \u001b[1;33m=\u001b[0m \u001b[0mnum_search\u001b[0m\u001b[1;33m,\u001b[0m\u001b[1;33m\u001b[0m\u001b[1;33m\u001b[0m\u001b[0m\n\u001b[1;32m----> 9\u001b[1;33m                             trials = trials)\n\u001b[0m\u001b[0;32m     10\u001b[0m     clf=XGBRegressor(\n\u001b[0;32m     11\u001b[0m                 \u001b[0mn_estimators\u001b[0m \u001b[1;33m=\u001b[0m \u001b[0mint\u001b[0m\u001b[1;33m(\u001b[0m\u001b[0mbest_hyperparams\u001b[0m\u001b[1;33m[\u001b[0m\u001b[1;34m'n_estimators'\u001b[0m\u001b[1;33m]\u001b[0m\u001b[1;33m)\u001b[0m\u001b[1;33m,\u001b[0m\u001b[1;33m\u001b[0m\u001b[1;33m\u001b[0m\u001b[0m\n",
      "\u001b[1;32md:\\program files d\\python3.7.2\\lib\\site-packages\\hyperopt\\fmin.py\u001b[0m in \u001b[0;36mfmin\u001b[1;34m(fn, space, algo, max_evals, timeout, loss_threshold, trials, rstate, allow_trials_fmin, pass_expr_memo_ctrl, catch_eval_exceptions, verbose, return_argmin, points_to_evaluate, max_queue_len, show_progressbar, early_stop_fn, trials_save_file)\u001b[0m\n\u001b[0;32m    553\u001b[0m             \u001b[0mshow_progressbar\u001b[0m\u001b[1;33m=\u001b[0m\u001b[0mshow_progressbar\u001b[0m\u001b[1;33m,\u001b[0m\u001b[1;33m\u001b[0m\u001b[1;33m\u001b[0m\u001b[0m\n\u001b[0;32m    554\u001b[0m             \u001b[0mearly_stop_fn\u001b[0m\u001b[1;33m=\u001b[0m\u001b[0mearly_stop_fn\u001b[0m\u001b[1;33m,\u001b[0m\u001b[1;33m\u001b[0m\u001b[1;33m\u001b[0m\u001b[0m\n\u001b[1;32m--> 555\u001b[1;33m             \u001b[0mtrials_save_file\u001b[0m\u001b[1;33m=\u001b[0m\u001b[0mtrials_save_file\u001b[0m\u001b[1;33m,\u001b[0m\u001b[1;33m\u001b[0m\u001b[1;33m\u001b[0m\u001b[0m\n\u001b[0m\u001b[0;32m    556\u001b[0m         )\n\u001b[0;32m    557\u001b[0m \u001b[1;33m\u001b[0m\u001b[0m\n",
      "\u001b[1;32md:\\program files d\\python3.7.2\\lib\\site-packages\\hyperopt\\base.py\u001b[0m in \u001b[0;36mfmin\u001b[1;34m(self, fn, space, algo, max_evals, timeout, loss_threshold, max_queue_len, rstate, verbose, pass_expr_memo_ctrl, catch_eval_exceptions, return_argmin, show_progressbar, early_stop_fn, trials_save_file)\u001b[0m\n\u001b[0;32m    686\u001b[0m             \u001b[0mshow_progressbar\u001b[0m\u001b[1;33m=\u001b[0m\u001b[0mshow_progressbar\u001b[0m\u001b[1;33m,\u001b[0m\u001b[1;33m\u001b[0m\u001b[1;33m\u001b[0m\u001b[0m\n\u001b[0;32m    687\u001b[0m             \u001b[0mearly_stop_fn\u001b[0m\u001b[1;33m=\u001b[0m\u001b[0mearly_stop_fn\u001b[0m\u001b[1;33m,\u001b[0m\u001b[1;33m\u001b[0m\u001b[1;33m\u001b[0m\u001b[0m\n\u001b[1;32m--> 688\u001b[1;33m             \u001b[0mtrials_save_file\u001b[0m\u001b[1;33m=\u001b[0m\u001b[0mtrials_save_file\u001b[0m\u001b[1;33m,\u001b[0m\u001b[1;33m\u001b[0m\u001b[1;33m\u001b[0m\u001b[0m\n\u001b[0m\u001b[0;32m    689\u001b[0m         )\n\u001b[0;32m    690\u001b[0m \u001b[1;33m\u001b[0m\u001b[0m\n",
      "\u001b[1;32md:\\program files d\\python3.7.2\\lib\\site-packages\\hyperopt\\fmin.py\u001b[0m in \u001b[0;36mfmin\u001b[1;34m(fn, space, algo, max_evals, timeout, loss_threshold, trials, rstate, allow_trials_fmin, pass_expr_memo_ctrl, catch_eval_exceptions, verbose, return_argmin, points_to_evaluate, max_queue_len, show_progressbar, early_stop_fn, trials_save_file)\u001b[0m\n\u001b[0;32m    584\u001b[0m \u001b[1;33m\u001b[0m\u001b[0m\n\u001b[0;32m    585\u001b[0m     \u001b[1;31m# next line is where the fmin is actually executed\u001b[0m\u001b[1;33m\u001b[0m\u001b[1;33m\u001b[0m\u001b[1;33m\u001b[0m\u001b[0m\n\u001b[1;32m--> 586\u001b[1;33m     \u001b[0mrval\u001b[0m\u001b[1;33m.\u001b[0m\u001b[0mexhaust\u001b[0m\u001b[1;33m(\u001b[0m\u001b[1;33m)\u001b[0m\u001b[1;33m\u001b[0m\u001b[1;33m\u001b[0m\u001b[0m\n\u001b[0m\u001b[0;32m    587\u001b[0m \u001b[1;33m\u001b[0m\u001b[0m\n\u001b[0;32m    588\u001b[0m     \u001b[1;32mif\u001b[0m \u001b[0mreturn_argmin\u001b[0m\u001b[1;33m:\u001b[0m\u001b[1;33m\u001b[0m\u001b[1;33m\u001b[0m\u001b[0m\n",
      "\u001b[1;32md:\\program files d\\python3.7.2\\lib\\site-packages\\hyperopt\\fmin.py\u001b[0m in \u001b[0;36mexhaust\u001b[1;34m(self)\u001b[0m\n\u001b[0;32m    362\u001b[0m     \u001b[1;32mdef\u001b[0m \u001b[0mexhaust\u001b[0m\u001b[1;33m(\u001b[0m\u001b[0mself\u001b[0m\u001b[1;33m)\u001b[0m\u001b[1;33m:\u001b[0m\u001b[1;33m\u001b[0m\u001b[1;33m\u001b[0m\u001b[0m\n\u001b[0;32m    363\u001b[0m         \u001b[0mn_done\u001b[0m \u001b[1;33m=\u001b[0m \u001b[0mlen\u001b[0m\u001b[1;33m(\u001b[0m\u001b[0mself\u001b[0m\u001b[1;33m.\u001b[0m\u001b[0mtrials\u001b[0m\u001b[1;33m)\u001b[0m\u001b[1;33m\u001b[0m\u001b[1;33m\u001b[0m\u001b[0m\n\u001b[1;32m--> 364\u001b[1;33m         \u001b[0mself\u001b[0m\u001b[1;33m.\u001b[0m\u001b[0mrun\u001b[0m\u001b[1;33m(\u001b[0m\u001b[0mself\u001b[0m\u001b[1;33m.\u001b[0m\u001b[0mmax_evals\u001b[0m \u001b[1;33m-\u001b[0m \u001b[0mn_done\u001b[0m\u001b[1;33m,\u001b[0m \u001b[0mblock_until_done\u001b[0m\u001b[1;33m=\u001b[0m\u001b[0mself\u001b[0m\u001b[1;33m.\u001b[0m\u001b[0masynchronous\u001b[0m\u001b[1;33m)\u001b[0m\u001b[1;33m\u001b[0m\u001b[1;33m\u001b[0m\u001b[0m\n\u001b[0m\u001b[0;32m    365\u001b[0m         \u001b[0mself\u001b[0m\u001b[1;33m.\u001b[0m\u001b[0mtrials\u001b[0m\u001b[1;33m.\u001b[0m\u001b[0mrefresh\u001b[0m\u001b[1;33m(\u001b[0m\u001b[1;33m)\u001b[0m\u001b[1;33m\u001b[0m\u001b[1;33m\u001b[0m\u001b[0m\n\u001b[0;32m    366\u001b[0m         \u001b[1;32mreturn\u001b[0m \u001b[0mself\u001b[0m\u001b[1;33m\u001b[0m\u001b[1;33m\u001b[0m\u001b[0m\n",
      "\u001b[1;32md:\\program files d\\python3.7.2\\lib\\site-packages\\hyperopt\\fmin.py\u001b[0m in \u001b[0;36mrun\u001b[1;34m(self, N, block_until_done)\u001b[0m\n\u001b[0;32m    298\u001b[0m                 \u001b[1;32melse\u001b[0m\u001b[1;33m:\u001b[0m\u001b[1;33m\u001b[0m\u001b[1;33m\u001b[0m\u001b[0m\n\u001b[0;32m    299\u001b[0m                     \u001b[1;31m# -- loop over trials and do the jobs directly\u001b[0m\u001b[1;33m\u001b[0m\u001b[1;33m\u001b[0m\u001b[1;33m\u001b[0m\u001b[0m\n\u001b[1;32m--> 300\u001b[1;33m                     \u001b[0mself\u001b[0m\u001b[1;33m.\u001b[0m\u001b[0mserial_evaluate\u001b[0m\u001b[1;33m(\u001b[0m\u001b[1;33m)\u001b[0m\u001b[1;33m\u001b[0m\u001b[1;33m\u001b[0m\u001b[0m\n\u001b[0m\u001b[0;32m    301\u001b[0m \u001b[1;33m\u001b[0m\u001b[0m\n\u001b[0;32m    302\u001b[0m                 \u001b[0mself\u001b[0m\u001b[1;33m.\u001b[0m\u001b[0mtrials\u001b[0m\u001b[1;33m.\u001b[0m\u001b[0mrefresh\u001b[0m\u001b[1;33m(\u001b[0m\u001b[1;33m)\u001b[0m\u001b[1;33m\u001b[0m\u001b[1;33m\u001b[0m\u001b[0m\n",
      "\u001b[1;32md:\\program files d\\python3.7.2\\lib\\site-packages\\hyperopt\\fmin.py\u001b[0m in \u001b[0;36mserial_evaluate\u001b[1;34m(self, N)\u001b[0m\n\u001b[0;32m    176\u001b[0m                 \u001b[0mctrl\u001b[0m \u001b[1;33m=\u001b[0m \u001b[0mbase\u001b[0m\u001b[1;33m.\u001b[0m\u001b[0mCtrl\u001b[0m\u001b[1;33m(\u001b[0m\u001b[0mself\u001b[0m\u001b[1;33m.\u001b[0m\u001b[0mtrials\u001b[0m\u001b[1;33m,\u001b[0m \u001b[0mcurrent_trial\u001b[0m\u001b[1;33m=\u001b[0m\u001b[0mtrial\u001b[0m\u001b[1;33m)\u001b[0m\u001b[1;33m\u001b[0m\u001b[1;33m\u001b[0m\u001b[0m\n\u001b[0;32m    177\u001b[0m                 \u001b[1;32mtry\u001b[0m\u001b[1;33m:\u001b[0m\u001b[1;33m\u001b[0m\u001b[1;33m\u001b[0m\u001b[0m\n\u001b[1;32m--> 178\u001b[1;33m                     \u001b[0mresult\u001b[0m \u001b[1;33m=\u001b[0m \u001b[0mself\u001b[0m\u001b[1;33m.\u001b[0m\u001b[0mdomain\u001b[0m\u001b[1;33m.\u001b[0m\u001b[0mevaluate\u001b[0m\u001b[1;33m(\u001b[0m\u001b[0mspec\u001b[0m\u001b[1;33m,\u001b[0m \u001b[0mctrl\u001b[0m\u001b[1;33m)\u001b[0m\u001b[1;33m\u001b[0m\u001b[1;33m\u001b[0m\u001b[0m\n\u001b[0m\u001b[0;32m    179\u001b[0m                 \u001b[1;32mexcept\u001b[0m \u001b[0mException\u001b[0m \u001b[1;32mas\u001b[0m \u001b[0me\u001b[0m\u001b[1;33m:\u001b[0m\u001b[1;33m\u001b[0m\u001b[1;33m\u001b[0m\u001b[0m\n\u001b[0;32m    180\u001b[0m                     \u001b[0mlogger\u001b[0m\u001b[1;33m.\u001b[0m\u001b[0merror\u001b[0m\u001b[1;33m(\u001b[0m\u001b[1;34m\"job exception: %s\"\u001b[0m \u001b[1;33m%\u001b[0m \u001b[0mstr\u001b[0m\u001b[1;33m(\u001b[0m\u001b[0me\u001b[0m\u001b[1;33m)\u001b[0m\u001b[1;33m)\u001b[0m\u001b[1;33m\u001b[0m\u001b[1;33m\u001b[0m\u001b[0m\n",
      "\u001b[1;32md:\\program files d\\python3.7.2\\lib\\site-packages\\hyperopt\\base.py\u001b[0m in \u001b[0;36mevaluate\u001b[1;34m(self, config, ctrl, attach_attachments)\u001b[0m\n\u001b[0;32m    890\u001b[0m                 \u001b[0mprint_node_on_error\u001b[0m\u001b[1;33m=\u001b[0m\u001b[0mself\u001b[0m\u001b[1;33m.\u001b[0m\u001b[0mrec_eval_print_node_on_error\u001b[0m\u001b[1;33m,\u001b[0m\u001b[1;33m\u001b[0m\u001b[1;33m\u001b[0m\u001b[0m\n\u001b[0;32m    891\u001b[0m             )\n\u001b[1;32m--> 892\u001b[1;33m             \u001b[0mrval\u001b[0m \u001b[1;33m=\u001b[0m \u001b[0mself\u001b[0m\u001b[1;33m.\u001b[0m\u001b[0mfn\u001b[0m\u001b[1;33m(\u001b[0m\u001b[0mpyll_rval\u001b[0m\u001b[1;33m)\u001b[0m\u001b[1;33m\u001b[0m\u001b[1;33m\u001b[0m\u001b[0m\n\u001b[0m\u001b[0;32m    893\u001b[0m \u001b[1;33m\u001b[0m\u001b[0m\n\u001b[0;32m    894\u001b[0m         \u001b[1;32mif\u001b[0m \u001b[0misinstance\u001b[0m\u001b[1;33m(\u001b[0m\u001b[0mrval\u001b[0m\u001b[1;33m,\u001b[0m \u001b[1;33m(\u001b[0m\u001b[0mfloat\u001b[0m\u001b[1;33m,\u001b[0m \u001b[0mint\u001b[0m\u001b[1;33m,\u001b[0m \u001b[0mnp\u001b[0m\u001b[1;33m.\u001b[0m\u001b[0mnumber\u001b[0m\u001b[1;33m)\u001b[0m\u001b[1;33m)\u001b[0m\u001b[1;33m:\u001b[0m\u001b[1;33m\u001b[0m\u001b[1;33m\u001b[0m\u001b[0m\n",
      "\u001b[1;32m~\\AppData\\Local\\Temp/ipykernel_11816/865359772.py\u001b[0m in \u001b[0;36mlinear_objective\u001b[1;34m(space)\u001b[0m\n\u001b[0;32m     15\u001b[0m     \u001b[0mn_est\u001b[0m \u001b[1;33m=\u001b[0m \u001b[1;33m[\u001b[0m\u001b[1;33m]\u001b[0m\u001b[1;33m\u001b[0m\u001b[1;33m\u001b[0m\u001b[0m\n\u001b[0;32m     16\u001b[0m     \u001b[1;32mfor\u001b[0m \u001b[0mi\u001b[0m \u001b[1;32min\u001b[0m \u001b[0mrange\u001b[0m\u001b[1;33m(\u001b[0m\u001b[1;36m5\u001b[0m\u001b[1;33m)\u001b[0m\u001b[1;33m:\u001b[0m\u001b[1;33m\u001b[0m\u001b[1;33m\u001b[0m\u001b[0m\n\u001b[1;32m---> 17\u001b[1;33m         \u001b[0maccuracy\u001b[0m\u001b[1;33m,\u001b[0m \u001b[0mn_est_used\u001b[0m \u001b[1;33m=\u001b[0m \u001b[0mXGB_val_in_hyperopt\u001b[0m\u001b[1;33m(\u001b[0m\u001b[0mXGBModel\u001b[0m \u001b[1;33m=\u001b[0m \u001b[0mclf\u001b[0m\u001b[1;33m,\u001b[0m \u001b[0mX\u001b[0m \u001b[1;33m=\u001b[0m \u001b[0mX\u001b[0m\u001b[1;33m,\u001b[0m \u001b[0my\u001b[0m \u001b[1;33m=\u001b[0m \u001b[0my\u001b[0m\u001b[1;33m,\u001b[0m \u001b[0mearly_stop_num\u001b[0m \u001b[1;33m=\u001b[0m \u001b[1;36m10\u001b[0m\u001b[1;33m)\u001b[0m\u001b[1;33m\u001b[0m\u001b[1;33m\u001b[0m\u001b[0m\n\u001b[0m\u001b[0;32m     18\u001b[0m         \u001b[0macc\u001b[0m\u001b[1;33m.\u001b[0m\u001b[0mappend\u001b[0m\u001b[1;33m(\u001b[0m\u001b[0maccuracy\u001b[0m\u001b[1;33m)\u001b[0m\u001b[1;33m\u001b[0m\u001b[1;33m\u001b[0m\u001b[0m\n\u001b[0;32m     19\u001b[0m         \u001b[0mn_est\u001b[0m\u001b[1;33m.\u001b[0m\u001b[0mappend\u001b[0m\u001b[1;33m(\u001b[0m\u001b[0mn_est_used\u001b[0m\u001b[1;33m)\u001b[0m\u001b[1;33m\u001b[0m\u001b[1;33m\u001b[0m\u001b[0m\n",
      "\u001b[1;32m~\\AppData\\Local\\Temp/ipykernel_11816/3472812354.py\u001b[0m in \u001b[0;36mXGB_val_in_hyperopt\u001b[1;34m(XGBModel, X, y, early_stop_num)\u001b[0m\n\u001b[0;32m      7\u001b[0m                 \u001b[0meval_metric\u001b[0m\u001b[1;33m=\u001b[0m\u001b[1;34m\"mae\"\u001b[0m\u001b[1;33m,\u001b[0m\u001b[1;33m\u001b[0m\u001b[1;33m\u001b[0m\u001b[0m\n\u001b[0;32m      8\u001b[0m                 \u001b[0mearly_stopping_rounds\u001b[0m\u001b[1;33m=\u001b[0m\u001b[0mearly_stop_num\u001b[0m\u001b[1;33m,\u001b[0m\u001b[1;33m\u001b[0m\u001b[1;33m\u001b[0m\u001b[0m\n\u001b[1;32m----> 9\u001b[1;33m                 \u001b[0mverbose\u001b[0m\u001b[1;33m=\u001b[0m\u001b[1;32mFalse\u001b[0m\u001b[1;33m\u001b[0m\u001b[1;33m\u001b[0m\u001b[0m\n\u001b[0m\u001b[0;32m     10\u001b[0m                 )\n\u001b[0;32m     11\u001b[0m     \u001b[0mpredict\u001b[0m \u001b[1;33m=\u001b[0m \u001b[0mXGBModel\u001b[0m\u001b[1;33m.\u001b[0m\u001b[0mpredict\u001b[0m\u001b[1;33m(\u001b[0m\u001b[0mX_valid\u001b[0m\u001b[1;33m)\u001b[0m\u001b[1;33m\u001b[0m\u001b[1;33m\u001b[0m\u001b[0m\n",
      "\u001b[1;32md:\\program files d\\python3.7.2\\lib\\site-packages\\xgboost\\core.py\u001b[0m in \u001b[0;36minner_f\u001b[1;34m(*args, **kwargs)\u001b[0m\n\u001b[0;32m    504\u001b[0m         \u001b[1;32mfor\u001b[0m \u001b[0mk\u001b[0m\u001b[1;33m,\u001b[0m \u001b[0marg\u001b[0m \u001b[1;32min\u001b[0m \u001b[0mzip\u001b[0m\u001b[1;33m(\u001b[0m\u001b[0msig\u001b[0m\u001b[1;33m.\u001b[0m\u001b[0mparameters\u001b[0m\u001b[1;33m,\u001b[0m \u001b[0margs\u001b[0m\u001b[1;33m)\u001b[0m\u001b[1;33m:\u001b[0m\u001b[1;33m\u001b[0m\u001b[1;33m\u001b[0m\u001b[0m\n\u001b[0;32m    505\u001b[0m             \u001b[0mkwargs\u001b[0m\u001b[1;33m[\u001b[0m\u001b[0mk\u001b[0m\u001b[1;33m]\u001b[0m \u001b[1;33m=\u001b[0m \u001b[0marg\u001b[0m\u001b[1;33m\u001b[0m\u001b[1;33m\u001b[0m\u001b[0m\n\u001b[1;32m--> 506\u001b[1;33m         \u001b[1;32mreturn\u001b[0m \u001b[0mf\u001b[0m\u001b[1;33m(\u001b[0m\u001b[1;33m**\u001b[0m\u001b[0mkwargs\u001b[0m\u001b[1;33m)\u001b[0m\u001b[1;33m\u001b[0m\u001b[1;33m\u001b[0m\u001b[0m\n\u001b[0m\u001b[0;32m    507\u001b[0m \u001b[1;33m\u001b[0m\u001b[0m\n\u001b[0;32m    508\u001b[0m     \u001b[1;32mreturn\u001b[0m \u001b[0minner_f\u001b[0m\u001b[1;33m\u001b[0m\u001b[1;33m\u001b[0m\u001b[0m\n",
      "\u001b[1;32md:\\program files d\\python3.7.2\\lib\\site-packages\\xgboost\\sklearn.py\u001b[0m in \u001b[0;36mfit\u001b[1;34m(self, X, y, sample_weight, base_margin, eval_set, eval_metric, early_stopping_rounds, verbose, xgb_model, sample_weight_eval_set, base_margin_eval_set, feature_weights, callbacks)\u001b[0m\n\u001b[0;32m    798\u001b[0m             \u001b[0mverbose_eval\u001b[0m\u001b[1;33m=\u001b[0m\u001b[0mverbose\u001b[0m\u001b[1;33m,\u001b[0m\u001b[1;33m\u001b[0m\u001b[1;33m\u001b[0m\u001b[0m\n\u001b[0;32m    799\u001b[0m             \u001b[0mxgb_model\u001b[0m\u001b[1;33m=\u001b[0m\u001b[0mmodel\u001b[0m\u001b[1;33m,\u001b[0m\u001b[1;33m\u001b[0m\u001b[1;33m\u001b[0m\u001b[0m\n\u001b[1;32m--> 800\u001b[1;33m             \u001b[0mcallbacks\u001b[0m\u001b[1;33m=\u001b[0m\u001b[0mcallbacks\u001b[0m\u001b[1;33m,\u001b[0m\u001b[1;33m\u001b[0m\u001b[1;33m\u001b[0m\u001b[0m\n\u001b[0m\u001b[0;32m    801\u001b[0m         )\n\u001b[0;32m    802\u001b[0m \u001b[1;33m\u001b[0m\u001b[0m\n",
      "\u001b[1;32md:\\program files d\\python3.7.2\\lib\\site-packages\\xgboost\\training.py\u001b[0m in \u001b[0;36mtrain\u001b[1;34m(params, dtrain, num_boost_round, evals, obj, feval, maximize, early_stopping_rounds, evals_result, verbose_eval, xgb_model, callbacks)\u001b[0m\n\u001b[0;32m    194\u001b[0m                           \u001b[0mevals_result\u001b[0m\u001b[1;33m=\u001b[0m\u001b[0mevals_result\u001b[0m\u001b[1;33m,\u001b[0m\u001b[1;33m\u001b[0m\u001b[1;33m\u001b[0m\u001b[0m\n\u001b[0;32m    195\u001b[0m                           \u001b[0mmaximize\u001b[0m\u001b[1;33m=\u001b[0m\u001b[0mmaximize\u001b[0m\u001b[1;33m,\u001b[0m\u001b[1;33m\u001b[0m\u001b[1;33m\u001b[0m\u001b[0m\n\u001b[1;32m--> 196\u001b[1;33m                           early_stopping_rounds=early_stopping_rounds)\n\u001b[0m\u001b[0;32m    197\u001b[0m     \u001b[1;32mreturn\u001b[0m \u001b[0mbst\u001b[0m\u001b[1;33m\u001b[0m\u001b[1;33m\u001b[0m\u001b[0m\n\u001b[0;32m    198\u001b[0m \u001b[1;33m\u001b[0m\u001b[0m\n",
      "\u001b[1;32md:\\program files d\\python3.7.2\\lib\\site-packages\\xgboost\\training.py\u001b[0m in \u001b[0;36m_train_internal\u001b[1;34m(params, dtrain, num_boost_round, evals, obj, feval, xgb_model, callbacks, evals_result, maximize, verbose_eval, early_stopping_rounds)\u001b[0m\n\u001b[0;32m     79\u001b[0m         \u001b[1;32mif\u001b[0m \u001b[0mcallbacks\u001b[0m\u001b[1;33m.\u001b[0m\u001b[0mbefore_iteration\u001b[0m\u001b[1;33m(\u001b[0m\u001b[0mbst\u001b[0m\u001b[1;33m,\u001b[0m \u001b[0mi\u001b[0m\u001b[1;33m,\u001b[0m \u001b[0mdtrain\u001b[0m\u001b[1;33m,\u001b[0m \u001b[0mevals\u001b[0m\u001b[1;33m)\u001b[0m\u001b[1;33m:\u001b[0m\u001b[1;33m\u001b[0m\u001b[1;33m\u001b[0m\u001b[0m\n\u001b[0;32m     80\u001b[0m             \u001b[1;32mbreak\u001b[0m\u001b[1;33m\u001b[0m\u001b[1;33m\u001b[0m\u001b[0m\n\u001b[1;32m---> 81\u001b[1;33m         \u001b[0mbst\u001b[0m\u001b[1;33m.\u001b[0m\u001b[0mupdate\u001b[0m\u001b[1;33m(\u001b[0m\u001b[0mdtrain\u001b[0m\u001b[1;33m,\u001b[0m \u001b[0mi\u001b[0m\u001b[1;33m,\u001b[0m \u001b[0mobj\u001b[0m\u001b[1;33m)\u001b[0m\u001b[1;33m\u001b[0m\u001b[1;33m\u001b[0m\u001b[0m\n\u001b[0m\u001b[0;32m     82\u001b[0m         \u001b[1;32mif\u001b[0m \u001b[0mcallbacks\u001b[0m\u001b[1;33m.\u001b[0m\u001b[0mafter_iteration\u001b[0m\u001b[1;33m(\u001b[0m\u001b[0mbst\u001b[0m\u001b[1;33m,\u001b[0m \u001b[0mi\u001b[0m\u001b[1;33m,\u001b[0m \u001b[0mdtrain\u001b[0m\u001b[1;33m,\u001b[0m \u001b[0mevals\u001b[0m\u001b[1;33m)\u001b[0m\u001b[1;33m:\u001b[0m\u001b[1;33m\u001b[0m\u001b[1;33m\u001b[0m\u001b[0m\n\u001b[0;32m     83\u001b[0m             \u001b[1;32mbreak\u001b[0m\u001b[1;33m\u001b[0m\u001b[1;33m\u001b[0m\u001b[0m\n",
      "\u001b[1;32md:\\program files d\\python3.7.2\\lib\\site-packages\\xgboost\\core.py\u001b[0m in \u001b[0;36mupdate\u001b[1;34m(self, dtrain, iteration, fobj)\u001b[0m\n\u001b[0;32m   1675\u001b[0m         \u001b[1;32mif\u001b[0m \u001b[1;32mnot\u001b[0m \u001b[0misinstance\u001b[0m\u001b[1;33m(\u001b[0m\u001b[0mdtrain\u001b[0m\u001b[1;33m,\u001b[0m \u001b[0mDMatrix\u001b[0m\u001b[1;33m)\u001b[0m\u001b[1;33m:\u001b[0m\u001b[1;33m\u001b[0m\u001b[1;33m\u001b[0m\u001b[0m\n\u001b[0;32m   1676\u001b[0m             \u001b[1;32mraise\u001b[0m \u001b[0mTypeError\u001b[0m\u001b[1;33m(\u001b[0m\u001b[1;34mf\"invalid training matrix: {type(dtrain).__name__}\"\u001b[0m\u001b[1;33m)\u001b[0m\u001b[1;33m\u001b[0m\u001b[1;33m\u001b[0m\u001b[0m\n\u001b[1;32m-> 1677\u001b[1;33m         \u001b[0mself\u001b[0m\u001b[1;33m.\u001b[0m\u001b[0m_validate_features\u001b[0m\u001b[1;33m(\u001b[0m\u001b[0mdtrain\u001b[0m\u001b[1;33m)\u001b[0m\u001b[1;33m\u001b[0m\u001b[1;33m\u001b[0m\u001b[0m\n\u001b[0m\u001b[0;32m   1678\u001b[0m \u001b[1;33m\u001b[0m\u001b[0m\n\u001b[0;32m   1679\u001b[0m         \u001b[1;32mif\u001b[0m \u001b[0mfobj\u001b[0m \u001b[1;32mis\u001b[0m \u001b[1;32mNone\u001b[0m\u001b[1;33m:\u001b[0m\u001b[1;33m\u001b[0m\u001b[1;33m\u001b[0m\u001b[0m\n",
      "\u001b[1;32md:\\program files d\\python3.7.2\\lib\\site-packages\\xgboost\\core.py\u001b[0m in \u001b[0;36m_validate_features\u001b[1;34m(self, data)\u001b[0m\n\u001b[0;32m   2457\u001b[0m         \u001b[0mSet\u001b[0m \u001b[0mfeature_names\u001b[0m \u001b[1;32mand\u001b[0m \u001b[0mfeature_types\u001b[0m \u001b[1;32mfrom\u001b[0m \u001b[0mDMatrix\u001b[0m\u001b[1;33m\u001b[0m\u001b[1;33m\u001b[0m\u001b[0m\n\u001b[0;32m   2458\u001b[0m         \"\"\"\n\u001b[1;32m-> 2459\u001b[1;33m         \u001b[1;32mif\u001b[0m \u001b[0mdata\u001b[0m\u001b[1;33m.\u001b[0m\u001b[0mnum_row\u001b[0m\u001b[1;33m(\u001b[0m\u001b[1;33m)\u001b[0m \u001b[1;33m==\u001b[0m \u001b[1;36m0\u001b[0m\u001b[1;33m:\u001b[0m\u001b[1;33m\u001b[0m\u001b[1;33m\u001b[0m\u001b[0m\n\u001b[0m\u001b[0;32m   2460\u001b[0m             \u001b[1;32mreturn\u001b[0m\u001b[1;33m\u001b[0m\u001b[1;33m\u001b[0m\u001b[0m\n\u001b[0;32m   2461\u001b[0m \u001b[1;33m\u001b[0m\u001b[0m\n",
      "\u001b[1;32md:\\program files d\\python3.7.2\\lib\\site-packages\\xgboost\\core.py\u001b[0m in \u001b[0;36mnum_row\u001b[1;34m(self)\u001b[0m\n\u001b[0;32m    908\u001b[0m         \u001b[0mret\u001b[0m \u001b[1;33m=\u001b[0m \u001b[0mc_bst_ulong\u001b[0m\u001b[1;33m(\u001b[0m\u001b[1;33m)\u001b[0m\u001b[1;33m\u001b[0m\u001b[1;33m\u001b[0m\u001b[0m\n\u001b[0;32m    909\u001b[0m         _check_call(_LIB.XGDMatrixNumRow(self.handle,\n\u001b[1;32m--> 910\u001b[1;33m                                          ctypes.byref(ret)))\n\u001b[0m\u001b[0;32m    911\u001b[0m         \u001b[1;32mreturn\u001b[0m \u001b[0mret\u001b[0m\u001b[1;33m.\u001b[0m\u001b[0mvalue\u001b[0m\u001b[1;33m\u001b[0m\u001b[1;33m\u001b[0m\u001b[0m\n\u001b[0;32m    912\u001b[0m \u001b[1;33m\u001b[0m\u001b[0m\n",
      "\u001b[1;31mKeyboardInterrupt\u001b[0m: "
     ]
    }
   ],
   "source": [
    "predictions, parameters, models = XGB_optimised_ensamble(X, y, X_test = X_hold, num_search = 5, num_models = 2)"
   ]
  },
  {
   "cell_type": "code",
   "execution_count": null,
   "id": "9f8d5b33-6f72-4336-a099-e6178dd8374d",
   "metadata": {},
   "outputs": [],
   "source": [
    "model_predictions = pd.DataFrame(predictions)\n",
    "comparison = pd.DataFrame({\"Original Index\":original_index,\"Predictions\":model_predictions.mean(axis=1), \"SalePrice\":y_hold[\"SalePrice\"]})\n",
    "comparison[\"Delta\"] = comparison[\"Predictions\"] - comparison[\"SalePrice\"]"
   ]
  },
  {
   "cell_type": "code",
   "execution_count": null,
   "id": "86017ae4-c12a-4d46-8623-967c7b62bafc",
   "metadata": {},
   "outputs": [],
   "source": [
    "comparison[\"Delta\"] = np.abs(comparison[\"Predictions\"] - comparison[\"SalePrice\"])\n",
    "comparison[\"Error\"] = comparison[\"Delta\"]/comparison[\"SalePrice\"]"
   ]
  },
  {
   "cell_type": "code",
   "execution_count": null,
   "id": "8da1fda8-2f5a-4911-8160-8ed27d8c7665",
   "metadata": {},
   "outputs": [],
   "source": [
    "ensamble_predictions = test_ensamble(ensamble_models = models, X_test = X_test).mean(axis=1)"
   ]
  },
  {
   "cell_type": "code",
   "execution_count": null,
   "id": "50ad3447-7c86-461e-a120-5245f6b3298b",
   "metadata": {},
   "outputs": [],
   "source": [
    "submission = pd.DataFrame({\"Id\":X_test_id,\"SalePrice\":ensamble_predictions})\n",
    "submission.to_csv(\"../skl-XGBoost/submission.csv\", sep =\",\", index = False)"
   ]
  },
  {
   "cell_type": "markdown",
   "id": "f85e66b2-9303-4f7b-8129-b3bee3330b22",
   "metadata": {},
   "source": [
    "# Testing Different Datasets"
   ]
  },
  {
   "cell_type": "code",
   "execution_count": 163,
   "id": "4b622236-6ecc-4c4a-a3f6-c98b648d55bd",
   "metadata": {},
   "outputs": [],
   "source": [
    "\"\"\"ALL FEATURES [X, y]\"\"\"\n",
    "train = pd.read_csv(\"../data/data_all_features.csv\")\n",
    "\n",
    "X_test = pd.read_csv(\"../data/test_all_features.csv\")\n",
    "X_test_id = pd.read_csv(\"../data/raw_test.csv\")[\"Id\"]\n",
    "\n",
    "headers = X_test.columns\n",
    "\n",
    "y_all = train[\"SalePrice\"]\n",
    "X_all = train.drop(columns=[\"SalePrice\"])[headers]\n",
    "\n",
    "X, X_hold, y, y_hold = train_test_split(X_all,y_all)\n",
    "\n",
    "X_hold = X_hold.reset_index()\n",
    "y_hold = y_hold.reset_index()\n",
    "\n",
    "original_index = y_hold[\"index\"]\n",
    "X_hold = X_hold.drop(columns = [\"index\"])\n",
    "y_hold = y_hold.drop(columns = [\"index\"])\n",
    "\n",
    "\"\"\"20% CORRELATED FEATURES [X_20, y_20]\"\"\"\n",
    "features_20 = pd.read_csv(\"../data/test_correlated.csv\").columns\n",
    "X_20 = X[features_20]\n",
    "X_hold_20 = X_hold[features_20]"
   ]
  },
  {
   "cell_type": "code",
   "execution_count": 164,
   "id": "c7af8a6a-e4b5-41a1-8ee3-897913043d13",
   "metadata": {},
   "outputs": [],
   "source": [
    "predictions_all = pd.DataFrame()\n",
    "acc_all = pd.DataFrame()\n",
    "model_scores_all = pd.DataFrame()"
   ]
  },
  {
   "cell_type": "code",
   "execution_count": 165,
   "id": "14c41a3a-e1bc-42dc-8d8a-36680f4d5a3b",
   "metadata": {},
   "outputs": [
    {
     "name": "stdout",
     "output_type": "stream",
     "text": [
      "100%|███████████████████████████████████████████████████████| 1/1 [00:06<00:00,  6.12s/trial, best loss: 178254.171875]\n",
      "100%|████████████████████████████████████████████████████████| 1/1 [00:07<00:00,  7.78s/trial, best loss: 176521.09375]\n",
      "100%|█████████████████████████████████████████████████████████| 1/1 [00:09<00:00,  9.19s/trial, best loss: 179547.4375]\n",
      "100%|███████████████████████████████████████████████████████| 1/1 [00:06<00:00,  6.75s/trial, best loss: 176777.671875]\n",
      "100%|███████████████████████████████████████████████████████| 1/1 [00:08<00:00,  8.28s/trial, best loss: 179316.109375]\n",
      "100%|████████████████████████████████████████████████████████| 1/1 [00:07<00:00,  7.69s/trial, best loss: 178991.46875]\n",
      "100%|███████████████████████████████████████████████████████| 1/1 [00:08<00:00,  8.79s/trial, best loss: 182693.296875]\n",
      "100%|███████████████████████████████████████████████████████| 1/1 [00:06<00:00,  6.22s/trial, best loss: 178658.203125]\n",
      "100%|███████████████████████████████████████████████████████| 1/1 [00:06<00:00,  6.97s/trial, best loss: 177196.984375]\n",
      "100%|█████████████████████████████████████████████████████████| 1/1 [00:06<00:00,  6.52s/trial, best loss: 182461.8125]\n",
      "100%|████████████████████████████████████████████████████████| 1/1 [00:09<00:00,  9.07s/trial, best loss: 179602.46875]\n",
      "100%|█████████████████████████████████████████████████████████| 1/1 [00:07<00:00,  7.48s/trial, best loss: 177971.6875]\n",
      "100%|███████████████████████████████████████████████████████| 1/1 [00:04<00:00,  4.74s/trial, best loss: 178398.953125]\n",
      "100%|████████████████████████████████████████████████████████| 1/1 [00:08<00:00,  8.11s/trial, best loss: 180159.15625]\n",
      "100%|████████████████████████████████████████████████████████| 1/1 [00:05<00:00,  5.55s/trial, best loss: 177978.84375]\n",
      "100%|████████████████████████████████████████████████████████| 1/1 [00:06<00:00,  6.18s/trial, best loss: 179251.03125]\n",
      "100%|███████████████████████████████████████████████████████| 1/1 [00:05<00:00,  5.70s/trial, best loss: 180206.015625]\n",
      "100%|███████████████████████████████████████████████████████| 1/1 [00:05<00:00,  5.55s/trial, best loss: 180960.890625]\n",
      "100%|████████████████████████████████████████████████████████████| 1/1 [00:06<00:00,  6.10s/trial, best loss: 174977.5]\n",
      "100%|████████████████████████████████████████████████████████| 1/1 [00:05<00:00,  5.11s/trial, best loss: 176144.53125]\n",
      "100%|███████████████████████████████████████████████████████| 1/1 [00:06<00:00,  6.98s/trial, best loss: 176858.140625]\n",
      "100%|████████████████████████████████████████████████████████| 1/1 [00:06<00:00,  6.36s/trial, best loss: 177752.53125]\n",
      "100%|███████████████████████████████████████████████████████| 1/1 [00:07<00:00,  7.30s/trial, best loss: 178163.921875]\n",
      "100%|████████████████████████████████████████████████████████| 1/1 [00:05<00:00,  5.14s/trial, best loss: 180502.65625]\n",
      "100%|██████████████████████████████████████████████████████████| 1/1 [00:05<00:00,  5.09s/trial, best loss: 176834.625]\n"
     ]
    }
   ],
   "source": [
    "for i in range(25):\n",
    "    n = len(predictions_all.columns)\n",
    "    predictions, parameters, models = XGB_optimised_ensamble(X, y, X_test = X_hold, num_search = 1, num_models = 1)\n",
    "    predictions_all[\"model_\"+str(n)] = predictions[\"model_0\"]\n",
    "    model_scores_all[\"model_\"+str(n)] = [mean_absolute_error(predictions[\"model_0\"], y_hold)]\n",
    "    acc_all[str(n+1)+\"_models\"] = [float(model_scores_all.mean(axis = 1))]"
   ]
  },
  {
   "cell_type": "code",
   "execution_count": 166,
   "id": "2c6a0c4a-9324-40a4-9b1e-323c8efe80ec",
   "metadata": {},
   "outputs": [],
   "source": [
    "predictions_20 = pd.DataFrame()\n",
    "acc_20 = pd.DataFrame()\n",
    "model_scores_20 = pd.DataFrame()"
   ]
  },
  {
   "cell_type": "code",
   "execution_count": 167,
   "id": "26e63628-bff8-442e-b675-ef2fda311559",
   "metadata": {},
   "outputs": [
    {
     "name": "stdout",
     "output_type": "stream",
     "text": [
      "100%|███████████████████████████████████████████████████████| 1/1 [00:05<00:00,  5.47s/trial, best loss: 181006.953125]\n",
      "100%|█████████████████████████████████████████████████████████| 1/1 [00:05<00:00,  5.56s/trial, best loss: 174965.8125]\n",
      "100%|███████████████████████████████████████████████████████| 1/1 [00:04<00:00,  5.00s/trial, best loss: 179340.078125]\n",
      "100%|███████████████████████████████████████████████████████████| 1/1 [00:05<00:00,  5.85s/trial, best loss: 180327.75]\n",
      "100%|███████████████████████████████████████████████████████| 1/1 [00:06<00:00,  6.91s/trial, best loss: 182097.921875]\n",
      "100%|████████████████████████████████████████████████████████| 1/1 [00:06<00:00,  6.33s/trial, best loss: 177844.84375]\n",
      "100%|███████████████████████████████████████████████████████| 1/1 [00:06<00:00,  6.39s/trial, best loss: 178306.203125]\n",
      "100%|███████████████████████████████████████████████████████████| 1/1 [00:06<00:00,  6.66s/trial, best loss: 181063.75]\n",
      "100%|███████████████████████████████████████████████████████| 1/1 [00:05<00:00,  5.70s/trial, best loss: 178799.953125]\n",
      "100%|███████████████████████████████████████████████████████████| 1/1 [00:08<00:00,  8.04s/trial, best loss: 178486.75]\n",
      "100%|█████████████████████████████████████████████████████████| 1/1 [00:04<00:00,  4.48s/trial, best loss: 176488.9375]\n",
      "100%|███████████████████████████████████████████████████████| 1/1 [00:06<00:00,  6.25s/trial, best loss: 179833.828125]\n",
      "100%|████████████████████████████████████████████████████████| 1/1 [00:06<00:00,  6.31s/trial, best loss: 180360.21875]\n",
      "100%|████████████████████████████████████████████████████████████| 1/1 [00:05<00:00,  5.22s/trial, best loss: 178451.5]\n",
      "100%|█████████████████████████████████████████████████████████| 1/1 [00:09<00:00,  9.89s/trial, best loss: 180325.5625]\n",
      "100%|████████████████████████████████████████████████████████████| 1/1 [00:08<00:00,  8.43s/trial, best loss: 178247.0]\n",
      "100%|███████████████████████████████████████████████████████| 1/1 [00:05<00:00,  5.92s/trial, best loss: 179373.640625]\n",
      "100%|███████████████████████████████████████████████████████| 1/1 [00:06<00:00,  6.99s/trial, best loss: 179626.578125]\n",
      "100%|████████████████████████████████████████████████████████| 1/1 [00:04<00:00,  4.10s/trial, best loss: 181662.59375]\n",
      "100%|████████████████████████████████████████████████████████| 1/1 [00:06<00:00,  6.00s/trial, best loss: 179325.15625]\n",
      "100%|█████████████████████████████████████████████████████████| 1/1 [00:08<00:00,  8.26s/trial, best loss: 180380.3125]\n",
      "100%|███████████████████████████████████████████████████████| 1/1 [00:06<00:00,  6.11s/trial, best loss: 178595.578125]\n",
      "100%|███████████████████████████████████████████████████████| 1/1 [00:13<00:00, 13.64s/trial, best loss: 178479.671875]\n",
      "100%|███████████████████████████████████████████████████████| 1/1 [00:06<00:00,  6.39s/trial, best loss: 178625.046875]\n",
      "100%|█████████████████████████████████████████████████████████| 1/1 [00:06<00:00,  6.79s/trial, best loss: 181914.0625]\n"
     ]
    }
   ],
   "source": [
    "for i in range(25):\n",
    "    n = len(predictions_20.columns)\n",
    "    predictions, parameters, models = XGB_optimised_ensamble(X_20, y, X_test = X_hold_20, num_search = 1, num_models = 1)\n",
    "    predictions_20[\"model_\"+str(n)] = predictions[\"model_0\"]\n",
    "    model_scores_20[\"model_\"+str(n)] = [mean_absolute_error(predictions[\"model_0\"], y_hold)]\n",
    "    acc_20[str(n+1)+\"_models\"] = [float(model_scores_20.mean(axis = 1))]"
   ]
  },
  {
   "cell_type": "code",
   "execution_count": 168,
   "id": "30892089-ce04-450a-996f-79530647111f",
   "metadata": {},
   "outputs": [
    {
     "name": "stderr",
     "output_type": "stream",
     "text": [
      "d:\\program files d\\python3.7.2\\lib\\site-packages\\matplotlib\\cbook\\__init__.py:1377: FutureWarning: Support for multi-dimensional indexing (e.g. `obj[:, None]`) is deprecated and will be removed in a future version.  Convert to a numpy array before indexing instead.\n",
      "  x[:, None]\n",
      "d:\\program files d\\python3.7.2\\lib\\site-packages\\matplotlib\\axes\\_base.py:239: FutureWarning: Support for multi-dimensional indexing (e.g. `obj[:, None]`) is deprecated and will be removed in a future version.  Convert to a numpy array before indexing instead.\n",
      "  y = y[:, np.newaxis]\n"
     ]
    },
    {
     "data": {
      "image/png": "[encoded data removed]",
      "text/plain": [
       "<Figure size 432x288 with 1 Axes>"
      ]
     },
     "metadata": {
      "needs_background": "light"
     },
     "output_type": "display_data"
    }
   ],
   "source": [
    "x = range(1,26)\n",
    "plt.plot(x, acc_20.iloc[0], label=\"corr 20 features\")\n",
    "plt.plot(x, acc_all.iloc[0], label=\"all features\")\n",
    "plt.legend()\n",
    "plt.show()"
   ]
  },
  {
   "cell_type": "code",
   "execution_count": 140,
   "id": "21a11dad-6239-4e24-90b7-84b3e6cc67af",
   "metadata": {},
   "outputs": [
    {
     "ename": "NameError",
     "evalue": "name 'predictions_corr_20' is not defined",
     "output_type": "error",
     "traceback": [
      "\u001b[1;31m---------------------------------------------------------------------------\u001b[0m",
      "\u001b[1;31mNameError\u001b[0m                                 Traceback (most recent call last)",
      "\u001b[1;32m~\\AppData\\Local\\Temp/ipykernel_11816/1854456087.py\u001b[0m in \u001b[0;36m<module>\u001b[1;34m\u001b[0m\n\u001b[0;32m      4\u001b[0m     \u001b[0mmodel_scores\u001b[0m \u001b[1;33m=\u001b[0m \u001b[0mpd\u001b[0m\u001b[1;33m.\u001b[0m\u001b[0mDataFrame\u001b[0m\u001b[1;33m(\u001b[0m\u001b[1;33m)\u001b[0m\u001b[1;33m\u001b[0m\u001b[1;33m\u001b[0m\u001b[0m\n\u001b[0;32m      5\u001b[0m     \u001b[1;32mfor\u001b[0m \u001b[0mj\u001b[0m \u001b[1;32min\u001b[0m \u001b[0mrange\u001b[0m\u001b[1;33m(\u001b[0m\u001b[0mi\u001b[0m\u001b[1;33m)\u001b[0m\u001b[1;33m:\u001b[0m\u001b[1;33m\u001b[0m\u001b[1;33m\u001b[0m\u001b[0m\n\u001b[1;32m----> 6\u001b[1;33m         \u001b[0mmodel_scores\u001b[0m\u001b[1;33m[\u001b[0m\u001b[1;34m\"model_\"\u001b[0m\u001b[1;33m+\u001b[0m\u001b[0mstr\u001b[0m\u001b[1;33m(\u001b[0m\u001b[0mj\u001b[0m\u001b[1;33m)\u001b[0m\u001b[1;33m]\u001b[0m \u001b[1;33m=\u001b[0m \u001b[0mpredictions_corr_20\u001b[0m\u001b[1;33m[\u001b[0m\u001b[1;34m\"model_\"\u001b[0m\u001b[1;33m+\u001b[0m\u001b[0mstr\u001b[0m\u001b[1;33m(\u001b[0m\u001b[0mj\u001b[0m\u001b[1;33m)\u001b[0m\u001b[1;33m]\u001b[0m\u001b[1;33m\u001b[0m\u001b[1;33m\u001b[0m\u001b[0m\n\u001b[0m\u001b[0;32m      7\u001b[0m     \u001b[0mensamble_score\u001b[0m \u001b[1;33m=\u001b[0m \u001b[0mmodel_scores\u001b[0m\u001b[1;33m.\u001b[0m\u001b[0mmean\u001b[0m\u001b[1;33m(\u001b[0m\u001b[0maxis\u001b[0m\u001b[1;33m=\u001b[0m\u001b[1;36m1\u001b[0m\u001b[1;33m)\u001b[0m\u001b[1;33m\u001b[0m\u001b[1;33m\u001b[0m\u001b[0m\n\u001b[0;32m      8\u001b[0m     \u001b[0mcorr_20_acc\u001b[0m\u001b[1;33m[\u001b[0m\u001b[1;34m\"ensamble_n=\"\u001b[0m\u001b[1;33m+\u001b[0m\u001b[0mstr\u001b[0m\u001b[1;33m(\u001b[0m\u001b[0mi\u001b[0m\u001b[1;33m)\u001b[0m\u001b[1;33m]\u001b[0m \u001b[1;33m=\u001b[0m \u001b[0mmean_absolute_error\u001b[0m\u001b[1;33m(\u001b[0m\u001b[0mensamble_score\u001b[0m\u001b[1;33m,\u001b[0m \u001b[0my_hold\u001b[0m\u001b[1;33m)\u001b[0m\u001b[1;33m\u001b[0m\u001b[1;33m\u001b[0m\u001b[0m\n",
      "\u001b[1;31mNameError\u001b[0m: name 'predictions_corr_20' is not defined"
     ]
    }
   ],
   "source": [
    "n = len(predictions_all.columns)\n",
    "corr_20_acc = {}\n",
    "for i in range(1, n+1):\n",
    "    model_scores = pd.DataFrame()\n",
    "    for j in range(i):\n",
    "        model_scores[\"model_\"+str(j)] = predictions_corr_20[\"model_\"+str(j)]\n",
    "    ensamble_score = model_scores.mean(axis=1)\n",
    "    corr_20_acc[\"ensamble_n=\"+str(i)] = mean_absolute_error(ensamble_score, y_hold)"
   ]
  },
  {
   "cell_type": "code",
   "execution_count": null,
   "id": "db5d4e35-f4d0-49bd-acbb-1830fd05e7bf",
   "metadata": {},
   "outputs": [],
   "source": [
    "\"\"\"ALL FEATURES\"\"\"\n",
    "\n",
    "train = pd.read_csv(\"../data/data_all_features.csv\")\n",
    "\n",
    "X_test = pd.read_csv(\"../data/test_all_features.csv\")\n",
    "X_test_id = pd.read_csv(\"../data/raw_test.csv\")[\"Id\"]\n",
    "\n",
    "headers = X_test.columns\n",
    "\n",
    "y_all = train[\"SalePrice\"]\n",
    "X_all = train.drop(columns=[\"SalePrice\"])[headers]\n",
    "\n",
    "X, X_hold, y, y_hold = train_test_split(X_all,y_all)"
   ]
  },
  {
   "cell_type": "code",
   "execution_count": null,
   "id": "57943ed5-51d0-4444-ac34-753e46a15df4",
   "metadata": {},
   "outputs": [],
   "source": [
    "X_hold = X_hold.reset_index()\n",
    "y_hold = y_hold.reset_index()\n",
    "\n",
    "original_index = y_hold[\"index\"]\n",
    "X_hold = X_hold.drop(columns = [\"index\"])\n",
    "y_hold = y_hold.drop(columns = [\"index\"])"
   ]
  },
  {
   "cell_type": "code",
   "execution_count": null,
   "id": "2045a560-f3c0-4813-a6be-945c250df82b",
   "metadata": {},
   "outputs": [],
   "source": [
    "max_models = 10\n",
    "predictions, parameters, models = XGB_optimised_ensamble(X, y, X_test = X_hold, num_search = 5, num_models = max_models)\n",
    "predictions_all = pd.DataFrame(predictions)"
   ]
  },
  {
   "cell_type": "code",
   "execution_count": null,
   "id": "f4172216-7127-4356-a894-f26f07a1a9ef",
   "metadata": {},
   "outputs": [],
   "source": [
    "all_acc = {}\n",
    "for i in range(1, max_models+1):\n",
    "    model_scores = pd.DataFrame()\n",
    "    for j in range(i):\n",
    "        model_scores[\"model_\"+str(j)] = predictions_all[\"model_\"+str(j)]\n",
    "    ensamble_score = model_scores.mean(axis=1)\n",
    "    all_acc[\"ensamble_n=\"+str(i)] = mean_absolute_error(ensamble_score, y_hold)"
   ]
  },
  {
   "cell_type": "code",
   "execution_count": null,
   "id": "677b253b-5e10-4269-a308-ce55b0b37f45",
   "metadata": {},
   "outputs": [],
   "source": [
    "plt.plot(all_acc.keys(), all_acc.values())\n",
    "plt.plot(corr_20_acc.keys(), corr_20_acc.values())\n",
    "plt.show()"
   ]
  },
  {
   "cell_type": "code",
   "execution_count": null,
   "id": "f8ea544d-03cb-49db-a12a-b2e1b1dafe0f",
   "metadata": {},
   "outputs": [],
   "source": []
  }
 ],
 "metadata": {
  "kernelspec": {
   "display_name": "Python 3 (ipykernel)",
   "language": "python",
   "name": "python3"
  },
  "language_info": {
   "codemirror_mode": {
    "name": "ipython",
    "version": 3
   },
   "file_extension": ".py",
   "mimetype": "text/x-python",
   "name": "python",
   "nbconvert_exporter": "python",
   "pygments_lexer": "ipython3",
   "version": "3.7.2"
  }
 },
 "nbformat": 4,
 "nbformat_minor": 5
}
