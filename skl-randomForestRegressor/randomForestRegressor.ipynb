{
 "cells": [
  {
   "cell_type": "markdown",
   "id": "9ef94a1c-4b32-45cb-a45e-ddd2c8749e74",
   "metadata": {},
   "source": [
    "## Importing modules\n",
    "### Seperated between libraries to keep track"
   ]
  },
  {
   "cell_type": "code",
   "execution_count": 1,
   "id": "649a2678-dd36-481e-b91e-795a294052d4",
   "metadata": {},
   "outputs": [],
   "source": [
    "import numpy as np\n",
    "import pandas as pd"
   ]
  },
  {
   "cell_type": "code",
   "execution_count": 2,
   "id": "628b8e05-d543-4436-8d30-0eea0e579cbb",
   "metadata": {},
   "outputs": [],
   "source": [
    "import matplotlib.pyplot as plt\n",
    "%matplotlib inline"
   ]
  },
  {
   "cell_type": "code",
   "execution_count": 3,
   "id": "29cefcdd-7b19-4268-90b2-a675b8a83fb9",
   "metadata": {},
   "outputs": [],
   "source": [
    "from sklearn.model_selection import train_test_split\n",
    "from sklearn.ensemble import RandomForestRegressor\n",
    "from sklearn.pipeline import Pipeline\n",
    "from sklearn.impute import SimpleImputer\n",
    "from sklearn.model_selection import cross_val_score"
   ]
  },
  {
   "cell_type": "markdown",
   "id": "aa7b405a-cc3d-44a7-96e1-59f0dd341cad",
   "metadata": {},
   "source": [
    "## Loading data"
   ]
  },
  {
   "cell_type": "markdown",
   "id": "0bb32155-13b5-4eaa-bed4-b4f72a4ce042",
   "metadata": {},
   "source": [
    "### Data has been pre-processed and features pre-selected"
   ]
  },
  {
   "cell_type": "code",
   "execution_count": 4,
   "id": "20660d18-5e74-4cfa-ad22-efba67a0f7cb",
   "metadata": {},
   "outputs": [
    {
     "name": "stdout",
     "output_type": "stream",
     "text": [
      "Loaded in\n"
     ]
    }
   ],
   "source": [
    "train = pd.read_csv(\"../data/train.csv\")\n",
    "\n",
    "X_test = pd.read_csv(\"../data/test.csv\")\n",
    "X_test_id = pd.read_csv(\"../data/raw_test.csv\")[\"Id\"]\n",
    "\n",
    "y_train = train[\"SalePrice\"]\n",
    "X_train = train.drop(columns=[\"SalePrice\"])\n",
    "\n",
    "print(\"Loaded in\")"
   ]
  },
  {
   "cell_type": "markdown",
   "id": "ec66e9ce-6729-424a-8410-98e9c42f42f6",
   "metadata": {},
   "source": [
    "## Building a pipeline"
   ]
  },
  {
   "cell_type": "markdown",
   "id": "b2503bab-d7d6-4e00-9439-05e537fc595d",
   "metadata": {},
   "source": [
    "### Pipeline contains only the model execution, as pre-processing steps have already been covered"
   ]
  },
  {
   "cell_type": "code",
   "execution_count": 5,
   "id": "d1331533-c6a1-4775-8759-854873d89125",
   "metadata": {},
   "outputs": [],
   "source": [
    "my_pipeline = Pipeline(steps=[\n",
    "    (\"model\", RandomForestRegressor(n_estimators = 50, random_state = 0))\n",
    "])"
   ]
  },
  {
   "cell_type": "markdown",
   "id": "542e9965-d029-4193-8b35-92c382a2e95f",
   "metadata": {},
   "source": [
    "## Testing a default model with 5-fold CV"
   ]
  },
  {
   "cell_type": "code",
   "execution_count": 6,
   "id": "079982b4-fd37-4b53-bc18-76b9cc8f48b8",
   "metadata": {},
   "outputs": [
    {
     "name": "stdout",
     "output_type": "stream",
     "text": [
      "Average MAE score: 19009.497417645143\n"
     ]
    }
   ],
   "source": [
    "scores = -1 * cross_val_score(my_pipeline, X_train, y_train, \n",
    "                              cv = 5, \n",
    "                              scoring = \"neg_mean_absolute_error\")\n",
    "print(\"Average MAE score:\", scores.mean())"
   ]
  },
  {
   "cell_type": "markdown",
   "id": "ac1e14df-44e9-440d-b442-259dbaf8c265",
   "metadata": {},
   "source": [
    "## Testing models with varying n_estimators"
   ]
  },
  {
   "cell_type": "code",
   "execution_count": 7,
   "id": "59611648-572b-4afb-9630-a491f79daa05",
   "metadata": {},
   "outputs": [],
   "source": [
    "def get_score(n_estimators):\n",
    "    my_pipeline = Pipeline(steps = [\n",
    "        (\"model\", RandomForestRegressor(n_estimators, random_state = 0))\n",
    "    ])\n",
    "    \n",
    "    scores = -1 * cross_val_score(my_pipeline, X_train, y_train, \n",
    "                              cv = 5, \n",
    "                              scoring = \"neg_mean_absolute_error\")\n",
    "    return scores.mean()"
   ]
  },
  {
   "cell_type": "code",
   "execution_count": 8,
   "id": "a7dfff4b-c168-4d58-8ef9-02ef19387e35",
   "metadata": {},
   "outputs": [],
   "source": [
    "results = {}\n",
    "estimators = [50, 100, 150, 200, 250, 300, 350, 400, 450, 500, 550, 600, 650, 700]\n",
    "for i in estimators:\n",
    "    results[i] = get_score(i)"
   ]
  },
  {
   "cell_type": "code",
   "execution_count": 9,
   "id": "1a80d6f2-7300-412a-baca-469170ab0e3a",
   "metadata": {},
   "outputs": [
    {
     "data": {
      "image/png": "[encoded data removed]",
      "text/plain": [
       "<Figure size 432x288 with 1 Axes>"
      ]
     },
     "metadata": {
      "needs_background": "light"
     },
     "output_type": "display_data"
    }
   ],
   "source": [
    "plt.plot(list(results.keys()), list(results.values()))\n",
    "plt.show()"
   ]
  },
  {
   "cell_type": "code",
   "execution_count": 28,
   "id": "0a4686a8-69b1-4796-97fc-e4f75816b81d",
   "metadata": {},
   "outputs": [],
   "source": [
    "n_estimators_optimal = 450"
   ]
  },
  {
   "cell_type": "code",
   "execution_count": 32,
   "id": "313baa49-07de-4a6a-b953-ac1cac1466ee",
   "metadata": {},
   "outputs": [
    {
     "data": {
      "text/plain": [
       "RandomForestRegressor(n_estimators=450, random_state=0)"
      ]
     },
     "execution_count": 32,
     "metadata": {},
     "output_type": "execute_result"
    }
   ],
   "source": [
    "model = RandomForestRegressor(n_estimators_optimal, random_state = 0)\n",
    "\n",
    "model.fit(X_train, y_train)"
   ]
  },
  {
   "cell_type": "code",
   "execution_count": 43,
   "id": "56ff996c-e8cc-4f80-a8ee-ed15ee1af91d",
   "metadata": {},
   "outputs": [],
   "source": [
    "y_test = model.predict(X_test)\n",
    "\n",
    "submission = pd.DataFrame({\"Id\":X_test_id, \"SalePrice\":y_test})\n",
    "\n",
    "submission.to_csv(\"./skl-randomForestRegressor/submission.csv\", sep =\",\", index = False)"
   ]
  },
  {
   "cell_type": "code",
   "execution_count": null,
   "id": "4cbddf0e-6a1b-4163-aadc-8450c6d35ba1",
   "metadata": {},
   "outputs": [],
   "source": []
  }
 ],
 "metadata": {
  "kernelspec": {
   "display_name": "Python 3 (ipykernel)",
   "language": "python",
   "name": "python3"
  },
  "language_info": {
   "codemirror_mode": {
    "name": "ipython",
    "version": 3
   },
   "file_extension": ".py",
   "mimetype": "text/x-python",
   "name": "python",
   "nbconvert_exporter": "python",
   "pygments_lexer": "ipython3",
   "version": "3.9.1"
  }
 },
 "nbformat": 4,
 "nbformat_minor": 5
}
