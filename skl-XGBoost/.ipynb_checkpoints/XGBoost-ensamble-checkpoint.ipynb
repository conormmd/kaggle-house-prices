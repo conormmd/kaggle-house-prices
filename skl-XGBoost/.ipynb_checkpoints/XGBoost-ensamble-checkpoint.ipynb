{
 "cells": [
  {
   "cell_type": "markdown",
   "id": "f23034d2-4681-4344-b3f8-bfabe878258b",
   "metadata": {},
   "source": [
    "https://towardsdatascience.com/a-conceptual-explanation-of-bayesian-model-based-hyperparameter-optimization-for-machine-learning-b8172278050f"
   ]
  },
  {
   "cell_type": "markdown",
   "id": "9ef94a1c-4b32-45cb-a45e-ddd2c8749e74",
   "metadata": {
    "tags": []
   },
   "source": [
    "## Importing modules\n",
    "### Seperated between libraries to keep track"
   ]
  },
  {
   "cell_type": "code",
   "execution_count": 1,
   "id": "649a2678-dd36-481e-b91e-795a294052d4",
   "metadata": {},
   "outputs": [],
   "source": [
    "import numpy as np"
   ]
  },
  {
   "cell_type": "code",
   "execution_count": 2,
   "id": "8401ade2-b9da-41d1-a41e-09c8b4b414fb",
   "metadata": {},
   "outputs": [],
   "source": [
    "import pandas as pd\n",
    "pd.set_option('display.max_colwidth', None)\n",
    "pd.set_option('display.max_columns', None)  "
   ]
  },
  {
   "cell_type": "code",
   "execution_count": 3,
   "id": "628b8e05-d543-4436-8d30-0eea0e579cbb",
   "metadata": {},
   "outputs": [],
   "source": [
    "import matplotlib.pyplot as plt\n",
    "%matplotlib inline"
   ]
  },
  {
   "cell_type": "code",
   "execution_count": 4,
   "id": "3924d4c9-b2e8-4807-a297-066e29ad4a75",
   "metadata": {},
   "outputs": [],
   "source": [
    "from xgboost import XGBRegressor"
   ]
  },
  {
   "cell_type": "code",
   "execution_count": 5,
   "id": "29cefcdd-7b19-4268-90b2-a675b8a83fb9",
   "metadata": {},
   "outputs": [],
   "source": [
    "from sklearn.model_selection import train_test_split\n",
    "from sklearn.pipeline import Pipeline\n",
    "from sklearn.impute import SimpleImputer\n",
    "from sklearn.model_selection import cross_val_score\n",
    "from sklearn.metrics import mean_absolute_error"
   ]
  },
  {
   "cell_type": "code",
   "execution_count": 6,
   "id": "66c62664-fec5-4553-aace-bb563fcea159",
   "metadata": {},
   "outputs": [],
   "source": [
    "from hyperopt import hp\n",
    "from hyperopt import STATUS_OK, Trials, fmin, hp, tpe"
   ]
  },
  {
   "cell_type": "markdown",
   "id": "369b35a0-01b3-464e-adde-a09b00fb0126",
   "metadata": {},
   "source": [
    "# Function Building"
   ]
  },
  {
   "cell_type": "code",
   "execution_count": 7,
   "id": "b2525dbd-8d46-4fc3-8b2f-5f02ceea937d",
   "metadata": {},
   "outputs": [
    {
     "data": {
      "text/plain": [
       "'\\ntrain = pd.read_csv(\"../data/train_correlated.csv\")\\n\\nX_test = pd.read_csv(\"../data/test_correlated.csv\")\\nX_test_id = pd.read_csv(\"../data/raw_test.csv\")[\"Id\"]\\n\\nheaders = X_test.columns\\n\\ny_all = train[\"SalePrice\"]\\nX_all = train.drop(columns=[\"SalePrice\"])[headers]\\n'"
      ]
     },
     "execution_count": 7,
     "metadata": {},
     "output_type": "execute_result"
    }
   ],
   "source": [
    "\"\"\"CORRELATED FEATURES\"\"\"\n",
    "\"\"\"\n",
    "train = pd.read_csv(\"../data/train_correlated.csv\")\n",
    "\n",
    "X_test = pd.read_csv(\"../data/test_correlated.csv\")\n",
    "X_test_id = pd.read_csv(\"../data/raw_test.csv\")[\"Id\"]\n",
    "\n",
    "headers = X_test.columns\n",
    "\n",
    "y_all = train[\"SalePrice\"]\n",
    "X_all = train.drop(columns=[\"SalePrice\"])[headers]\n",
    "\"\"\""
   ]
  },
  {
   "cell_type": "code",
   "execution_count": 8,
   "id": "eaaf7ebf-44d3-4a4e-90f7-a4abc33c2e63",
   "metadata": {},
   "outputs": [],
   "source": [
    "\"\"\"ALL FEATURES [X, y]\"\"\"\n",
    "train = pd.read_csv(\"../data/data_all_features.csv\")\n",
    "\n",
    "X_test = pd.read_csv(\"../data/test_all_features.csv\")\n",
    "X_test_id = pd.read_csv(\"../data/raw_test.csv\")[\"Id\"]\n",
    "\n",
    "headers = X_test.columns\n",
    "\n",
    "y_all = train[\"SalePrice\"]\n",
    "X_all = train.drop(columns=[\"SalePrice\"])[headers]\n",
    "\n",
    "X, X_hold, y, y_hold = train_test_split(X_all,y_all)\n",
    "\n",
    "X_hold = X_hold.reset_index()\n",
    "y_hold = y_hold.reset_index()\n",
    "\n",
    "original_index = y_hold[\"index\"]\n",
    "X_hold = X_hold.drop(columns = [\"index\"])\n",
    "y_hold = y_hold.drop(columns = [\"index\"])\n",
    "\n",
    "\"\"\"20% CORRELATED FEATURES [X_20, y_20]\"\"\"\n",
    "features_20 = pd.read_csv(\"../data/test_correlated.csv\").columns\n",
    "X_20 = X[features_20]\n",
    "X_hold_20 = X_hold[features_20]"
   ]
  },
  {
   "cell_type": "code",
   "execution_count": 9,
   "id": "2e06d778-fd05-46ab-a990-52c81f263e2f",
   "metadata": {},
   "outputs": [],
   "source": [
    "def XGB_val_in_hyperopt(XGBModel, X, y, early_stop_num = 10):\n",
    "    X_train, X_valid, y_train, y_valid = train_test_split(X,y)\n",
    "    evaluation = [( X_train, y_train), ( X_valid, y_valid)]\n",
    "    \n",
    "    XGBModel.fit(X_train, y_train,\n",
    "                eval_set=evaluation, \n",
    "                eval_metric=\"mae\",\n",
    "                early_stopping_rounds=early_stop_num,\n",
    "                verbose=False\n",
    "                )\n",
    "    predict = XGBModel.predict(X_valid)\n",
    "    accuracy = XGBModel.predict(X_valid)\n",
    "    n_est_used = len(XGBModel.get_booster().get_dump())\n",
    "    \n",
    "    return accuracy, n_est_used"
   ]
  },
  {
   "cell_type": "code",
   "execution_count": 10,
   "id": "d4cfb505-05b9-4cfe-8404-c535edc6173e",
   "metadata": {},
   "outputs": [],
   "source": [
    "\"\"\"Linear Regressor\"\"\"\n",
    "def linear_objective(space):\n",
    "    clf=XGBRegressor(\n",
    "                    n_estimators = int(space['n_estimators']), \n",
    "                    max_depth = int(space['max_depth']), \n",
    "                    gamma = space['gamma'],\n",
    "                    reg_alpha = space['reg_alpha'],\n",
    "                    reg_lambda = space['reg_lambda'],\n",
    "                    min_child_weight= space['min_child_weight'],\n",
    "                    colsample_bytree= space['colsample_bytree'],\n",
    "    )\n",
    "    \n",
    "    \n",
    "    acc = []\n",
    "    n_est = []\n",
    "    for i in range(5):\n",
    "        accuracy, n_est_used = XGB_val_in_hyperopt(XGBModel = clf, X = X, y = y, early_stop_num = 10)\n",
    "        acc.append(accuracy)\n",
    "        n_est.append(n_est_used)\n",
    "    \n",
    "    accuracy = np.mean(acc)\n",
    "    n_est_used = int(np.mean(n_est))\n",
    "    \n",
    "    trials.results[-1][\"n_estimators\"] = n_est_used\n",
    "    \n",
    "    trials.trials[-1][\"misc\"][\"vals\"][\"n_estimators\"] = [n_est_used]\n",
    "    \n",
    "    return {'loss': accuracy, 'status': STATUS_OK, \"n_estimators\" : n_est_used}"
   ]
  },
  {
   "cell_type": "code",
   "execution_count": 11,
   "id": "02f86a37-81a2-4a1f-8bd5-de99af8337ea",
   "metadata": {},
   "outputs": [],
   "source": [
    "def XGB_optimised_model(X, y, X_test, num_search = 100): ##NUM SEARCH = 100\n",
    "    global trials\n",
    "    trials = Trials()\n",
    "\n",
    "    best_hyperparams = fmin(fn = linear_objective,\n",
    "                            space = space,\n",
    "                            algo = tpe.suggest,\n",
    "                            max_evals = num_search,\n",
    "                            trials = trials)\n",
    "    clf=XGBRegressor(\n",
    "                n_estimators = int(best_hyperparams['n_estimators']), \n",
    "                max_depth = int(best_hyperparams['max_depth']), \n",
    "                gamma = best_hyperparams['gamma'],\n",
    "                reg_alpha = best_hyperparams['reg_alpha'],\n",
    "                reg_lambda = best_hyperparams['reg_lambda'],\n",
    "                min_child_weight = best_hyperparams['min_child_weight'],\n",
    "                colsample_bytree = best_hyperparams['colsample_bytree']\n",
    "    )\n",
    "\n",
    "    clf.fit(X, y, \n",
    "            eval_metric=\"mae\",\n",
    "            verbose=True\n",
    "    )\n",
    "\n",
    "    predict = clf.predict(X_test)\n",
    "\n",
    "    return predict, best_hyperparams, clf"
   ]
  },
  {
   "cell_type": "code",
   "execution_count": 12,
   "id": "6146dfc3-e41e-4294-a81b-75c904307125",
   "metadata": {},
   "outputs": [],
   "source": [
    "def XGB_optimised_ensamble(X, y, X_test, num_search = 10, num_models = 10):\n",
    "    predictions = {}\n",
    "    parameters = {}\n",
    "    models = {}\n",
    "    \n",
    "    for i in range(num_models):\n",
    "        predictions[\"model_\"+str(i)], parameters[\"model_\"+str(i)], models[\"model_\"+str(i)] = XGB_optimised_model(X, y, X_test, num_search)\n",
    "    \n",
    "    return predictions, parameters, models"
   ]
  },
  {
   "cell_type": "code",
   "execution_count": 13,
   "id": "590e7c74-2dbf-41bb-aa65-36e8e9faf385",
   "metadata": {},
   "outputs": [],
   "source": [
    "def test_ensamble(ensamble_models, X_test):\n",
    "    n_models = len(ensamble_models)\n",
    "    predictions = pd.DataFrame()\n",
    "    for i in range(n_models):\n",
    "        model = \"model_\"+str(i)\n",
    "        clf = ensamble_models[model]\n",
    "        predictions[model] = clf.predict(X_test)\n",
    "    \n",
    "    return predictions"
   ]
  },
  {
   "cell_type": "code",
   "execution_count": 14,
   "id": "15fe4c44-0601-492f-ad69-3ff9a1b977b6",
   "metadata": {},
   "outputs": [],
   "source": [
    "space={'max_depth': hp.quniform(\"max_depth\", 3, 18, 1),\n",
    "        'gamma': hp.uniform ('gamma', 1,9),\n",
    "        'reg_alpha' : hp.quniform('reg_alpha', 40,180,1),\n",
    "        'reg_lambda' : hp.uniform('reg_lambda', 0,1),\n",
    "        'colsample_bytree' : hp.uniform('colsample_bytree', 0.5,1),\n",
    "        'min_child_weight' : hp.quniform('min_child_weight', 0, 10, 1),\n",
    "        'n_estimators': hp.quniform('n_estimators', 999, 1000, 1),\n",
    "        'seed': 0\n",
    "    }"
   ]
  },
  {
   "cell_type": "code",
   "execution_count": 15,
   "id": "a28c58e5-3541-4920-8733-9a38f0ee4172",
   "metadata": {},
   "outputs": [
    {
     "name": "stdout",
     "output_type": "stream",
     "text": [
      "100%|███████████████████████████████████████████████████████| 5/5 [00:07<00:00,  1.44s/trial, best loss: 177911.171875]\n",
      "100%|███████████████████████████████████████████████████████| 5/5 [00:06<00:00,  1.31s/trial, best loss: 178088.203125]\n"
     ]
    }
   ],
   "source": [
    "predictions, parameters, models = XGB_optimised_ensamble(X, y, X_test = X_hold, num_search = 5, num_models = 2)"
   ]
  },
  {
   "cell_type": "code",
   "execution_count": 16,
   "id": "9f8d5b33-6f72-4336-a099-e6178dd8374d",
   "metadata": {},
   "outputs": [],
   "source": [
    "model_predictions = pd.DataFrame(predictions)\n",
    "comparison = pd.DataFrame({\"Original Index\":original_index,\"Predictions\":model_predictions.mean(axis=1), \"SalePrice\":y_hold[\"SalePrice\"]})\n",
    "comparison[\"Delta\"] = comparison[\"Predictions\"] - comparison[\"SalePrice\"]"
   ]
  },
  {
   "cell_type": "code",
   "execution_count": 17,
   "id": "86017ae4-c12a-4d46-8623-967c7b62bafc",
   "metadata": {},
   "outputs": [],
   "source": [
    "comparison[\"Delta\"] = np.abs(comparison[\"Predictions\"] - comparison[\"SalePrice\"])\n",
    "comparison[\"Error\"] = comparison[\"Delta\"]/comparison[\"SalePrice\"]"
   ]
  },
  {
   "cell_type": "code",
   "execution_count": 20,
   "id": "8da1fda8-2f5a-4911-8160-8ed27d8c7665",
   "metadata": {},
   "outputs": [],
   "source": [
    "ensamble_predictions = test_ensamble(ensamble_models = models, X_test = X_test).mean(axis=1)"
   ]
  },
  {
   "cell_type": "code",
   "execution_count": 21,
   "id": "50ad3447-7c86-461e-a120-5245f6b3298b",
   "metadata": {},
   "outputs": [],
   "source": [
    "submission = pd.DataFrame({\"Id\":X_test_id,\"SalePrice\":ensamble_predictions})\n",
    "submission.to_csv(\"../skl-XGBoost/submission.csv\", sep =\",\", index = False)"
   ]
  },
  {
   "cell_type": "markdown",
   "id": "f85e66b2-9303-4f7b-8129-b3bee3330b22",
   "metadata": {},
   "source": [
    "# Testing Different Datasets"
   ]
  },
  {
   "cell_type": "code",
   "execution_count": 22,
   "id": "4b622236-6ecc-4c4a-a3f6-c98b648d55bd",
   "metadata": {},
   "outputs": [],
   "source": [
    "\"\"\"ALL FEATURES [X, y]\"\"\"\n",
    "train = pd.read_csv(\"../data/data_all_features.csv\")\n",
    "\n",
    "X_test = pd.read_csv(\"../data/test_all_features.csv\")\n",
    "X_test_id = pd.read_csv(\"../data/raw_test.csv\")[\"Id\"]\n",
    "\n",
    "headers = X_test.columns\n",
    "\n",
    "y_all = train[\"SalePrice\"]\n",
    "X_all = train.drop(columns=[\"SalePrice\"])[headers]\n",
    "\n",
    "X, X_hold, y, y_hold = train_test_split(X_all,y_all)\n",
    "\n",
    "X_hold = X_hold.reset_index()\n",
    "y_hold = y_hold.reset_index()\n",
    "\n",
    "original_index = y_hold[\"index\"]\n",
    "X_hold = X_hold.drop(columns = [\"index\"])\n",
    "y_hold = y_hold.drop(columns = [\"index\"])\n",
    "\n",
    "\"\"\"20% CORRELATED FEATURES [X_20, y_20]\"\"\"\n",
    "features_20 = pd.read_csv(\"../data/test_correlated.csv\").columns\n",
    "X_20 = X[features_20]\n",
    "X_hold_20 = X_hold[features_20]"
   ]
  },
  {
   "cell_type": "code",
   "execution_count": 23,
   "id": "c7af8a6a-e4b5-41a1-8ee3-897913043d13",
   "metadata": {},
   "outputs": [],
   "source": [
    "predictions_all = pd.DataFrame()\n",
    "acc_all = pd.DataFrame()\n",
    "model_scores_all = pd.DataFrame()"
   ]
  },
  {
   "cell_type": "code",
   "execution_count": 24,
   "id": "14c41a3a-e1bc-42dc-8d8a-36680f4d5a3b",
   "metadata": {},
   "outputs": [
    {
     "name": "stdout",
     "output_type": "stream",
     "text": [
      "100%|███████████████████████████████████████████████████████| 1/1 [00:01<00:00,  1.11s/trial, best loss: 177098.015625]\n",
      "100%|███████████████████████████████████████████████████████| 1/1 [00:01<00:00,  1.49s/trial, best loss: 179287.734375]\n",
      "100%|███████████████████████████████████████████████████████| 1/1 [00:01<00:00,  1.91s/trial, best loss: 177265.453125]\n",
      "100%|█████████████████████████████████████████████████████████| 1/1 [00:01<00:00,  1.22s/trial, best loss: 179856.5625]\n",
      "100%|█████████████████████████████████████████████████████████| 1/1 [00:02<00:00,  2.79s/trial, best loss: 177955.3125]\n",
      "100%|███████████████████████████████████████████████████████| 1/1 [00:01<00:00,  1.55s/trial, best loss: 177439.578125]\n",
      "100%|███████████████████████████████████████████████████████| 1/1 [00:01<00:00,  1.74s/trial, best loss: 178990.921875]\n",
      "100%|███████████████████████████████████████████████████████| 1/1 [00:01<00:00,  1.91s/trial, best loss: 182529.640625]\n",
      "100%|█████████████████████████████████████████████████████████| 1/1 [00:01<00:00,  1.35s/trial, best loss: 178883.8125]\n",
      "100%|███████████████████████████████████████████████████████| 1/1 [00:01<00:00,  1.56s/trial, best loss: 177886.296875]\n",
      "100%|███████████████████████████████████████████████████████| 1/1 [00:01<00:00,  1.64s/trial, best loss: 177760.953125]\n",
      "100%|███████████████████████████████████████████████████████| 1/1 [00:01<00:00,  1.41s/trial, best loss: 175491.140625]\n",
      "100%|████████████████████████████████████████████████████████| 1/1 [00:02<00:00,  2.09s/trial, best loss: 177543.09375]\n",
      "100%|███████████████████████████████████████████████████████| 1/1 [00:01<00:00,  1.26s/trial, best loss: 177627.234375]\n",
      "100%|████████████████████████████████████████████████████████| 1/1 [00:01<00:00,  1.20s/trial, best loss: 180777.34375]\n",
      "100%|████████████████████████████████████████████████████████████| 1/1 [00:01<00:00,  1.61s/trial, best loss: 177935.0]\n",
      "100%|█████████████████████████████████████████████████████████| 1/1 [00:01<00:00,  1.66s/trial, best loss: 180157.3125]\n",
      "100%|███████████████████████████████████████████████████████| 1/1 [00:01<00:00,  1.70s/trial, best loss: 179216.671875]\n",
      "100%|███████████████████████████████████████████████████████| 1/1 [00:01<00:00,  1.60s/trial, best loss: 182221.515625]\n",
      "100%|████████████████████████████████████████████████████████| 1/1 [00:01<00:00,  1.51s/trial, best loss: 177642.15625]\n",
      "100%|███████████████████████████████████████████████████████| 1/1 [00:02<00:00,  2.40s/trial, best loss: 180295.859375]\n",
      "100%|███████████████████████████████████████████████████████| 1/1 [00:01<00:00,  1.11s/trial, best loss: 180369.734375]\n",
      "100%|███████████████████████████████████████████████████████| 1/1 [00:00<00:00,  1.06trial/s, best loss: 179765.609375]\n",
      "100%|███████████████████████████████████████████████████████| 1/1 [00:01<00:00,  1.03s/trial, best loss: 180318.328125]\n",
      "100%|██████████████████████████████████████████████████████████| 1/1 [00:01<00:00,  1.65s/trial, best loss: 175960.625]\n"
     ]
    }
   ],
   "source": [
    "for i in range(25):\n",
    "    n = len(predictions_all.columns)\n",
    "    predictions, parameters, models = XGB_optimised_ensamble(X, y, X_test = X_hold, num_search = 1, num_models = 1)\n",
    "    predictions_all[\"model_\"+str(n)] = predictions[\"model_0\"]\n",
    "    model_scores_all[\"model_\"+str(n)] = [mean_absolute_error(predictions[\"model_0\"], y_hold)]\n",
    "    acc_all[str(n+1)+\"_models\"] = [float(model_scores_all.mean(axis = 1))]"
   ]
  },
  {
   "cell_type": "code",
   "execution_count": 25,
   "id": "2c6a0c4a-9324-40a4-9b1e-323c8efe80ec",
   "metadata": {},
   "outputs": [],
   "source": [
    "predictions_20 = pd.DataFrame()\n",
    "acc_20 = pd.DataFrame()\n",
    "model_scores_20 = pd.DataFrame()"
   ]
  },
  {
   "cell_type": "code",
   "execution_count": 26,
   "id": "26e63628-bff8-442e-b675-ef2fda311559",
   "metadata": {},
   "outputs": [
    {
     "name": "stdout",
     "output_type": "stream",
     "text": [
      "100%|███████████████████████████████████████████████████████| 1/1 [00:01<00:00,  1.48s/trial, best loss: 181062.078125]\n",
      "100%|██████████████████████████████████████████████████████████| 1/1 [00:01<00:00,  1.09s/trial, best loss: 179718.125]\n",
      "100%|███████████████████████████████████████████████████████| 1/1 [00:01<00:00,  1.48s/trial, best loss: 177965.671875]\n",
      "100%|███████████████████████████████████████████████████████| 1/1 [00:01<00:00,  1.57s/trial, best loss: 180188.046875]\n",
      "100%|███████████████████████████████████████████████████████| 1/1 [00:01<00:00,  1.41s/trial, best loss: 181989.546875]\n",
      "100%|████████████████████████████████████████████████████████| 1/1 [00:00<00:00,  1.04trial/s, best loss: 178252.34375]\n",
      "100%|████████████████████████████████████████████████████████| 1/1 [00:01<00:00,  1.13s/trial, best loss: 177122.34375]\n",
      "100%|████████████████████████████████████████████████████████| 1/1 [00:01<00:00,  1.93s/trial, best loss: 178628.21875]\n",
      "100%|██████████████████████████████████████████████████████████| 1/1 [00:01<00:00,  1.48s/trial, best loss: 176828.375]\n",
      "100%|███████████████████████████████████████████████████████| 1/1 [00:01<00:00,  1.19s/trial, best loss: 178976.703125]\n",
      "100%|████████████████████████████████████████████████████████| 1/1 [00:01<00:00,  1.03s/trial, best loss: 177458.84375]\n",
      "100%|████████████████████████████████████████████████████████| 1/1 [00:01<00:00,  1.11s/trial, best loss: 178626.84375]\n",
      "100%|████████████████████████████████████████████████████████████| 1/1 [00:01<00:00,  1.76s/trial, best loss: 182758.5]\n",
      "100%|███████████████████████████████████████████████████████| 1/1 [00:01<00:00,  1.73s/trial, best loss: 177979.671875]\n",
      "100%|████████████████████████████████████████████████████████| 1/1 [00:01<00:00,  1.40s/trial, best loss: 178504.53125]\n",
      "100%|███████████████████████████████████████████████████████| 1/1 [00:01<00:00,  1.31s/trial, best loss: 178031.140625]\n",
      "100%|█████████████████████████████████████████████████████████| 1/1 [00:02<00:00,  2.16s/trial, best loss: 179822.5625]\n",
      "100%|████████████████████████████████████████████████████████| 1/1 [00:01<00:00,  1.24s/trial, best loss: 176934.28125]\n",
      "100%|███████████████████████████████████████████████████████| 1/1 [00:01<00:00,  1.14s/trial, best loss: 181513.484375]\n",
      "100%|████████████████████████████████████████████████████████| 1/1 [00:01<00:00,  1.84s/trial, best loss: 180066.84375]\n",
      "100%|████████████████████████████████████████████████████████| 1/1 [00:01<00:00,  1.03s/trial, best loss: 182160.46875]\n",
      "100%|███████████████████████████████████████████████████████| 1/1 [00:01<00:00,  1.50s/trial, best loss: 178559.453125]\n",
      "100%|███████████████████████████████████████████████████████| 1/1 [00:01<00:00,  1.42s/trial, best loss: 180441.265625]\n",
      "100%|█████████████████████████████████████████████████████████| 1/1 [00:01<00:00,  1.61s/trial, best loss: 178402.6875]\n",
      "100%|███████████████████████████████████████████████████████| 1/1 [00:02<00:00,  2.50s/trial, best loss: 178283.265625]\n"
     ]
    }
   ],
   "source": [
    "for i in range(25):\n",
    "    n = len(predictions_20.columns)\n",
    "    predictions, parameters, models = XGB_optimised_ensamble(X_20, y, X_test = X_hold_20, num_search = 1, num_models = 1)\n",
    "    predictions_20[\"model_\"+str(n)] = predictions[\"model_0\"]\n",
    "    model_scores_20[\"model_\"+str(n)] = [mean_absolute_error(predictions[\"model_0\"], y_hold)]\n",
    "    acc_20[str(n+1)+\"_models\"] = [float(model_scores_20.mean(axis = 1))]"
   ]
  },
  {
   "cell_type": "code",
   "execution_count": 27,
   "id": "30892089-ce04-450a-996f-79530647111f",
   "metadata": {},
   "outputs": [
    {
     "data": {
      "image/png": "[encoded data removed]",
      "text/plain": [
       "<Figure size 432x288 with 1 Axes>"
      ]
     },
     "metadata": {
      "needs_background": "light"
     },
     "output_type": "display_data"
    }
   ],
   "source": [
    "x = range(1,26)\n",
    "plt.plot(x, acc_20.iloc[0], label=\"corr 20 features\")\n",
    "plt.plot(x, acc_all.iloc[0], label=\"all features\")\n",
    "plt.legend()\n",
    "plt.show()"
   ]
  },
  {
   "cell_type": "code",
   "execution_count": 29,
   "id": "21a11dad-6239-4e24-90b7-84b3e6cc67af",
   "metadata": {},
   "outputs": [],
   "source": [
    "n = len(predictions_all.columns)\n",
    "corr_20_acc = {}\n",
    "for i in range(1, n+1):\n",
    "    model_scores = pd.DataFrame()\n",
    "    for j in range(i):\n",
    "        model_scores[\"model_\"+str(j)] = predictions_20[\"model_\"+str(j)]\n",
    "    ensamble_score = model_scores.mean(axis=1)\n",
    "    corr_20_acc[\"ensamble_n=\"+str(i)] = mean_absolute_error(ensamble_score, y_hold)"
   ]
  },
  {
   "cell_type": "code",
   "execution_count": 30,
   "id": "db5d4e35-f4d0-49bd-acbb-1830fd05e7bf",
   "metadata": {},
   "outputs": [],
   "source": [
    "\"\"\"ALL FEATURES\"\"\"\n",
    "\n",
    "train = pd.read_csv(\"../data/data_all_features.csv\")\n",
    "\n",
    "X_test = pd.read_csv(\"../data/test_all_features.csv\")\n",
    "X_test_id = pd.read_csv(\"../data/raw_test.csv\")[\"Id\"]\n",
    "\n",
    "headers = X_test.columns\n",
    "\n",
    "y_all = train[\"SalePrice\"]\n",
    "X_all = train.drop(columns=[\"SalePrice\"])[headers]\n",
    "\n",
    "X, X_hold, y, y_hold = train_test_split(X_all,y_all)"
   ]
  },
  {
   "cell_type": "code",
   "execution_count": 31,
   "id": "57943ed5-51d0-4444-ac34-753e46a15df4",
   "metadata": {},
   "outputs": [],
   "source": [
    "X_hold = X_hold.reset_index()\n",
    "y_hold = y_hold.reset_index()\n",
    "\n",
    "original_index = y_hold[\"index\"]\n",
    "X_hold = X_hold.drop(columns = [\"index\"])\n",
    "y_hold = y_hold.drop(columns = [\"index\"])"
   ]
  },
  {
   "cell_type": "code",
   "execution_count": 32,
   "id": "2045a560-f3c0-4813-a6be-945c250df82b",
   "metadata": {},
   "outputs": [
    {
     "name": "stdout",
     "output_type": "stream",
     "text": [
      "100%|███████████████████████████████████████████████████████| 5/5 [00:07<00:00,  1.51s/trial, best loss: 177324.609375]\n",
      "100%|███████████████████████████████████████████████████████| 5/5 [00:09<00:00,  1.95s/trial, best loss: 177698.421875]\n",
      "100%|███████████████████████████████████████████████████████| 5/5 [00:10<00:00,  2.07s/trial, best loss: 179596.828125]\n",
      "100%|████████████████████████████████████████████████████████| 5/5 [00:10<00:00,  2.01s/trial, best loss: 180744.65625]\n",
      "100%|████████████████████████████████████████████████████████| 5/5 [00:10<00:00,  2.10s/trial, best loss: 180609.96875]\n",
      "100%|███████████████████████████████████████████████████████| 5/5 [00:11<00:00,  2.28s/trial, best loss: 179520.015625]\n",
      "100%|██████████████████████████████████████████████████████████| 5/5 [00:13<00:00,  2.72s/trial, best loss: 180328.125]\n",
      "100%|████████████████████████████████████████████████████████| 5/5 [00:08<00:00,  1.79s/trial, best loss: 178504.15625]\n",
      "100%|████████████████████████████████████████████████████████| 5/5 [00:09<00:00,  1.82s/trial, best loss: 179617.96875]\n",
      "100%|███████████████████████████████████████████████████████| 5/5 [00:09<00:00,  1.92s/trial, best loss: 181092.671875]\n"
     ]
    }
   ],
   "source": [
    "max_models = 10\n",
    "predictions, parameters, models = XGB_optimised_ensamble(X, y, X_test = X_hold, num_search = 5, num_models = max_models)\n",
    "predictions_all = pd.DataFrame(predictions)"
   ]
  },
  {
   "cell_type": "code",
   "execution_count": 33,
   "id": "f4172216-7127-4356-a894-f26f07a1a9ef",
   "metadata": {},
   "outputs": [],
   "source": [
    "all_acc = {}\n",
    "for i in range(1, max_models+1):\n",
    "    model_scores = pd.DataFrame()\n",
    "    for j in range(i):\n",
    "        model_scores[\"model_\"+str(j)] = predictions_all[\"model_\"+str(j)]\n",
    "    ensamble_score = model_scores.mean(axis=1)\n",
    "    all_acc[\"ensamble_n=\"+str(i)] = mean_absolute_error(ensamble_score, y_hold)"
   ]
  },
  {
   "cell_type": "code",
   "execution_count": 39,
   "id": "677b253b-5e10-4269-a308-ce55b0b37f45",
   "metadata": {},
   "outputs": [
    {
     "data": {
      "image/png": "[encoded data removed]",
      "text/plain": [
       "<Figure size 432x288 with 1 Axes>"
      ]
     },
     "metadata": {
      "needs_background": "light"
     },
     "output_type": "display_data"
    }
   ],
   "source": [
    "plt.plot(all_acc.keys(), all_acc.values(), label = \"all\")\n",
    "plt.plot(corr_20_acc.keys(), corr_20_acc.values(), label = \"corr 20\")\n",
    "plt.legend()\n",
    "plt.show()"
   ]
  },
  {
   "cell_type": "code",
   "execution_count": null,
   "id": "f8ea544d-03cb-49db-a12a-b2e1b1dafe0f",
   "metadata": {},
   "outputs": [],
   "source": []
  }
 ],
 "metadata": {
  "kernelspec": {
   "display_name": "Python 3 (ipykernel)",
   "language": "python",
   "name": "python3"
  },
  "language_info": {
   "codemirror_mode": {
    "name": "ipython",
    "version": 3
   },
   "file_extension": ".py",
   "mimetype": "text/x-python",
   "name": "python",
   "nbconvert_exporter": "python",
   "pygments_lexer": "ipython3",
   "version": "3.9.1"
  }
 },
 "nbformat": 4,
 "nbformat_minor": 5
}
